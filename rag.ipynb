{
 "cells": [
  {
   "cell_type": "code",
   "execution_count": 60,
   "metadata": {},
   "outputs": [],
   "source": [
    "from langchain_community.document_loaders import TextLoader"
   ]
  },
  {
   "cell_type": "code",
   "execution_count": 61,
   "metadata": {},
   "outputs": [
    {
     "data": {
      "text/plain": [
       "[Document(metadata={'source': 'agroforestry.txt'}, page_content=\"Agroforestry lit review (Draft)\\nIntroduction\\nClimate change and loss of biodiversity seriously affects the well-being of humans and life on\\nearth, including significant impact on food production and the agricultural system, which requires\\nsolutions that work well and are cost-effective. This review covers the literature on the effects of\\nclimate change on agriculture, food production, and farmers to explain the case for fighting climate\\nchange by increasing tree cover through agroforestry, which is a nature-based solution that\\nintegrates trees and shrubs into agricultural land, creating systems that enhance both ecological\\nand economic resilience. This method not only combats land degradation but also restores soil\\nhealth by improving nutrient cycling and increasing organic matter content, which is crucial in\\ncountries like India where significant portions of agricultural land suffers from degradation.\\nAgroforestry effectively addresses multiple environmental challenges by not only enhancing\\nbiodiversity but also playing a significant role in carbon sequestration to mitigate climate change\\nimpacts. The increase in biodiversity by creating vital habitats for different plants and animals also\\nsupports ecosystem services such as pollination and soil health. Agroforestry is a crucial tool to\\nfight climate change by sequestering carbon and revitalize degraded land which leads to better\\ncrop yields and higher incomes for farmers.\\nClimate change's impact on farmer yields\\nClimate change is increasingly disrupting agricultural productivity, particularly in regions reliant on\\nrain-fed farming, by shifting temperatures and rainfall patterns, which in turn reduce crop yields and\\nthreaten food security (Castle et al., 2021). Farmers face growing challenges in resource\\nmanagement due to erratic weather, with rising temperatures, droughts, and floods negatively\\nimpacting soil moisture and crop growth. This is particularly severe in low- and middle-income\\ncountries, where agriculture is a key livelihood source, and farmers have limited resources to adapt\\n(Castle et al., 2021).\\nIn India, the impact of climate change on staple crops like rice and wheat is especially concerning.\\nTogether, these crops occupy nearly half of the countryâ€™s arable land, with rice grown on 31% and\\nwheat on 20%. Climate models project that between 2010 and 2039, yields of these crops could\\ndecline by 4.5â€“9%, and by 2070â€“2099, they may drop by at least 25%, unless adaptation\\nstrategies are implemented (Guiteras, 2009). This would pose a significant threat to food security\\nand farmer incomes. Additionally, with over 60% of Indiaâ€™s cultivated land reliant on rain-fed\\nsystems, erratic rainfall patterns further exacerbate the vulnerability of agriculture, emphasizing the\\nneed for water-saving techniques and stable irrigation systems (Srinivasrao et al., 2015).\\nExtreme weather events result in annual crop losses, which equate to about 0.25% of Indiaâ€™s GDP\\n(MoEF, 2010). Beyond economic losses, the social impact is severe. As Carleton (2017) notes,\\ngrowing debt burdens caused by yield reductions have led to a rise in farmer suicides.\\nFurthermore, the agricultural sector is undergoing a demographic shift, with fewer cultivators and\\nmore agricultural laborersâ€”a trend Gupta (2016) attributes to the increasing pressures on farming.\\nThis highlights the urgent need for more sustainable and resilient farming practices to secure\\nlivelihoods and food production.\\nFarmers struggling with soil degradation and reasons for\\ndegradation\\nSoil health is essential for sustainable agriculture, yet many farmers face challenges like erosion,\\nnutrient loss, and compaction, often driven by conventional farming, deforestation, and climate\\nchange (Tomar et al., 2021; Fahad et al., 2022). These issues pose significant risks to agricultural\\nproductivity and global food security (Fahad et al., 2022).\\nThe Green Revolution, initiated by the Indian government in the 1960s, improved food security but\\nalso contributed to widespread land degradation. The heavy use of chemical fertilizers, pesticides,\\nand high-yield seeds led to soil exhaustion, nutrient depletion, and biodiversity loss (Singh, 2000).\\nWater-intensive crops in unsuitable regions further exacerbated groundwater depletion and\\nsalinization. Long-term effects include soil erosion and reduced fertility, particularly due to\\nmonoculture and unsustainable farming practices (Pingali, 2012).\\nDeforestation and unsustainable agriculture further accelerate soil degradation by exposing soil to\\nerosion and disrupting nutrient cycles (Fahad et al., 2022). Climate change compounds these\\nissues by intensifying extreme weather events and altering rainfall patterns, worsening soil health.\\nGlobally, 24% of the worldâ€™s land is experiencing degradation, affecting 1.5 billion people (IPBES,\\n2018). In India, 29% of the countryâ€™s landâ€”about 96.4 million hectaresâ€”suffers from degradation\\ndue to deforestation, overgrazing, and unsustainable agricultural practices (ISRO, 2016). This\\nthreatens agricultural productivity, food security, and biodiversity.\\nSoil degradation results in lower crop yields, reduced farm income, and increased restoration\\ncosts, making sustainable practices like agroforestry essential for restoring soil health and ensuring\\nagricultural sustainability (Tomar et al., 2021; Fahad et al., 2022).\\nBiodiverse agroforestry as a solution\\nBiodiverse agroforestry, which integrates diverse trees, shrubs, crops, and livestock, fosters\\nsustainable agriculture by enhancing soil health, pest control, and ecosystem services. This\\napproach reduces dependency on chemical inputs through natural pest management supported by\\nplant diversity (Salve et al., 2022; Singh et al., 2021).\\nAgroforestry systems also increase yields and resource efficiency through intercropping and\\nnatural processes like nutrient cycling and carbon sequestration (Satish et al., 2024). Trees\\nimprove soil structure, reduce erosion, and boost water retention, all of which support crop growth\\n(Sekhar et al., 2024). These systems also regulate water cycles and sequester carbon, mitigating\\nclimate change and stabilizing microclimates, providing resilience against weather extremes\\n(Tschora & Cherubini, 2020; Schoeneberger, 2008).\\nAgroforestry has the potential to restore degraded lands and improve agricultural productivity. An\\nestimated 1 billion hectares of global agricultural land could benefit from agroforestry, representing\\n43% of all agricultural land worldwide (Zomer et al., 2009). In India, the National Agroforestry\\nPolicy 2014 highlights the potential to rehabilitate 25 million hectares of degraded land through\\nagroforestry, with the practice expandable to 65% of Indiaâ€™s agricultural land, improving soil health\\nand farmer incomes.\\nAgroforestry not only enhances soil health and agricultural resilience but also supports biodiversity,\\nconserves water, and offers farmers diversified income sources through timber and other products\\n(Fahad et al., 2022). This makes agroforestry a sustainable and economically viable strategy for\\nclimate adaptation and land restoration (Mondal et al., 2023).\\nIn summary, biodiverse agroforestry offers a sustainable solution by enhancing soil health,\\nimproving climate adaptation, and providing ecosystem services. Its adoption is crucial to\\naddressing global challenges like food security, climate change, and environmental degradation.\\nAgroforestry's impact on farmer incomes\\nAgroforestry significantly increases farmer incomes by diversifying revenue streams and improving\\ncrop yields. Studies show that integrating trees into agricultural systems can boost yields by 20%\\nto 50%, thanks to improved soil health, better water retention, and microclimate regulation (Pretty\\net al., 2018). Systems like alley cropping and silvopasture enhance nutrient cycling and reduce\\nerosion, leading to higher productivity.\\nAgroforestry also diversifies income sources by providing timber, fruits, and non-timber products,\\nreducing farmersâ€™ reliance on single crops and improving resilience (Pancholi et al., 2023). For\\nexample, in Madagascar, agroforestry systems that incorporate crops like vanilla and cocoa\\ncontribute significantly to exports (Andriatsitohaina et al., 2024). Studies estimate that agroforestry\\ncan boost farmer incomes by 30% to 60% through these diversified products and improved yields\\n(Mbow et al., 2014).\\nIn Jharkhand, India, mango plantations supported by the Mahatma Gandhi National Rural\\nEmployment Guarantee Act (MGNREGA) have notably increased farmer incomes through crop\\ndiversification and higher yields, providing long-term economic benefits for rural communities\\n(Dreze & Nair, 2023).\\nThis practice improves food security by diversifying both income and food sources, making farmers\\nmore resilient to market fluctuations and crop failures (Castle et al., 2021). It also contributes to\\nrural development by empowering smallholders, fostering community initiatives, and building local\\nskills (Satish et al., 2024; Singh et al., 2021).\\nAgroforestry's impact on reversing soil degradation\\nAgroforestry offers a highly effective solution to soil degradation by improving soil health and\\nincreasing ecosystem resilience (Salve et al., 2022; Fahad et al., 2022). The integration of trees\\nstabilizes soil, reduces erosion, and enhances nutrient cycling, significantly increasing organic\\nmatter, which boosts soil fertility and water retention (Sekhar et al., 2024; Tomar et al., 2021; Wato\\n& Amare, 2020). Trees contribute to nutrient cycling by capturing nutrients like nitrogen and\\nphosphorus, gradually releasing them into the soil, reducing the need for external inputs (Fahad et\\nal., 2022; Sekhar et al., 2024).\\nAdditionally, organic matter from tree litter improves soil structure, water retention, and fertility\\n(Sekhar et al., 2024; Tomar et al., 2021). Research demonstrates that agroforestry can reduce soil\\nerosion by up to 50%, increase soil organic carbon by 21%, and boost nitrogen and phosphorus\\navailability by 46% and 11%, respectively, while also improving soil pH by 2% (Muchai et al., 2020).\\nThese improvements not only enhance soil health but also contribute to long-term agricultural\\nproductivity and sustainability.\\nAgroforestry systems are especially effective in increasing soil organic carbon, improving soil\\nstructure, and boosting water retention, making them vital for enhancing resilience to climate\\nchange. As these systems maintain healthy soils essential for crop growth, they help mitigate\\nclimate change impacts by creating more resilient farming systems. By ensuring long-term\\nproductivity, agroforestry supports both environmental sustainability and the economic well-being of\\nfarming communities, providing a sustainable foundation for future generations to combat food\\ninsecurity and soil degradation challenges (Salve et al., 2022; Fahad et al., 2022).\\nThe capacity of restored soils to store more water\\nSoil moisture retention is significantly improved through agroforestry, which enhances water\\navailability for crops and promotes overall ecosystem health. Integrating trees into agricultural\\nlandscapes increases soil water storage by improving infiltration rates and reducing surface runoff.\\nDeep-rooted trees create porous soils, allowing rainwater to penetrate effectively, reducing both\\nerosion and waterlogging risks (Sekhar et al., 2024; Muchai et al., 2020).\\nThese systems also support groundwater recharge, vital for regions facing water scarcity (Kuyah et\\nal., 2019). The increased soil moisture boosts drought resilience, helping crops during dry periods\\nand enhancing food security in vulnerable areas (Sekhar et al., 2024). Studies show that water\\ninfiltration rates in agroforestry systems are about 75% higher compared to monocultures, thanks\\nto organic inputs like leaf litter that improve soil structure and water-holding capacity (Muchai et al.,\\n2020).\\nAgroforestry and moderate tree cover's impact on replenishing\\nthe water table\\nAgroforestry supports water resources by enhancing groundwater recharge and improving water\\nquality (Castle et al., 2021; Kuyah et al., 2019). Trees in these systems increase water percolation,\\nreduce surface runoff, and aid in water table replenishment (Kuyah et al., 2019). Their roots\\nstabilize the soil, improving structure and aiding in water retention and erosion control (Castle et\\nal., 2021). Moderate tree cover balances the hydrological cycle by intercepting rainfall, reducing\\nrunoff, and creating microclimates that minimize evaporation (Satish et al., 2024).\\nAdditionally, agroforestry improves water quality by reducing sedimentation and nutrient runoff,\\nwhile stabilizing soil and absorbing excess nutrients (Castle et al., 2021; Kuyah et al., 2019).\\nPractices such as contour planting and cover cropping further enhance these effects (Morya et al.,\\n2023). Together, these benefits make agroforestry a valuable strategy for replenishing water tables,\\nimproving water quality, and fostering agricultural sustainability (Kuyah et al., 2019; Feliciano et al.,\\n2017).\\nThe additional benefits of drip irrigation\\nDrip irrigation, a water-efficient technique, significantly enhances agroforestry systems by\\ndelivering water directly to plant roots, reducing waste and conserving water resources, particularly\\nin arid regions (Satish et al., 2024). By minimizing evaporation and runoff, drip irrigation greatly\\nimproves water use efficiency, ensuring crops receive consistent moisture while reducing weed\\ngrowth and disease risks (Satish et al., 2024). This also helps lower herbicide use and prevents\\nfungal infections, contributing to healthier crops and reducing input costs. Moreover, drip irrigation\\nboosts crop productivity by improving nutrient uptake and enhancing soil aeration, leading to more\\nvigorous plant growth (Satish et al., 2024).\\nAnother advantage of this system is its ability to apply fertilizers with precision, which reduces\\nleaching and minimizes environmental impacts (Satish et al., 2024). When combined with\\nagroforestry, drip irrigation provides additional synergies, such as enhanced soil moisture retention,\\nmicroclimate regulation through tree shade, and better resource optimization, all of which support\\nbiodiversity, soil health, and water quality (Satish et al., 2024).\\nIn Maharashtra, research highlights that drip irrigation results in substantial water and energy\\nsavings, with farmers saving â‚¹1.1 lakh per hectare for sugarcane and â‚¹69.9 thousand per hectare\\nfor banana (Gorain et al., 2018). These savings in both water and electricity contribute significantly\\nto cost reductions, while social benefits, such as off-farm employment, enhance the overall\\neconomic impact. However, social costs include government subsidies and investments in well\\nconstruction. Despite these costs, the benefit-cost ratio of drip irrigation over 10 years was found to\\nbe 2.08 at a 10% discount rate (Gorain et al., 2018).\\nBy optimizing water use and boosting productivity, drip irrigation supports both ecological\\nsustainability and economic resilience, making it a critical component of sustainable agroforestry\\nsystems (Satish et al., 2024).\\nThe importance of cash transfers and subsidies in helping\\nfarmers transition to agroforestry and sustainable\\nenvironmental practices\\nThe transition to agroforestry often requires significant investments and changes in farming\\npractices, posing considerable challenges for smallholder farmers in low-income regions (Castle et\\nal., 2021; Wato & Amare, 2020). Estimates from F4Fâ€™s work indicate that the cost to transition\\nranges from $1800 to $2000 per hectare or $1.5 to $2 per tree. Similarly, in the Brazilian Amazon,\\ncosts have been estimated between $1500 and $2000 per hectare. While passive reforestation or\\nassisted natural regeneration (helping the forest grow back in areas where it already existed) is\\nsignificantly cheaper, transitioning to agroforestry on agricultural lands is expensive given the\\nextent of soil degradation on these lands.\\nCash transfers are a key tool in supporting farmers through this transition by reducing financial\\nbarriers and promoting long-term investments. Agroforestry practices, which improve soil health\\nand carbon sequestration, often come with upfront costs for seedlings, labor, and maintenance,\\nmaking adoption difficult for resource-constrained farmers. Jayachandran et al. (2017) found that\\ncash transfers help offset these costs and provide short-term income security, encouraging the\\nadoption of sustainable land-use practices. Financial support has been shown to significantly\\nincrease participation rates in agroforestry programs, leading to better environmental outcomes\\nand enhanced rural livelihoods.\\nIn addition to supporting agroforestry, cash transfers play a crucial role in reducing deforestation by\\noffering financial support to rural communities, enabling them to adopt sustainable practices\\n(Hance, 2017). The lack of funds often serves as a major barrier to implementing solutions that\\ncould reduce deforestation rates. Financial incentives help mitigate the economic pressures faced\\nby communities, leading to more sustainable land use and conservation efforts.\\nA regression discontinuity analysis of Mexicoâ€™s National Program demonstrates the potential of\\ncash transfers to balance ecological goals with socioeconomic benefits. The program showed that\\nfinancial support not only reduced deforestation but also improved social outcomes, providing\\nlong-term benefits for local communities (Alix-Garcia et al., 2019).\\nBy linking financial support to sustainable practices, policymakers can encourage the planting of\\ntree species that improve ecosystem services, such as nitrogen-fixers or drought-tolerant varieties\\n(Castle et al., 2021). Cash transfers also act as a safety net against climate risks, enabling farmers\\nto invest in climate-resilient agroforestry systems, which are essential in regions facing increasingly\\nunpredictable weather patterns (Gifawesen et al., 2020; Sekhar et al., 2024).\\nHowever, financial support alone is not sufficient. Training programs are essential for equipping\\nfarmers with the knowledge needed for successful agroforestry, such as tree selection, planting\\ntechniques, and product marketing (Satish et al., 2024; Verma et al., 2016). Furthermore, effective\\npolicy frameworks should address issues such as land tenure, market development, and equitable\\naccess to resources, ensuring long-term success in agroforestry adoption (Castle et al., 2021;\\nWato & Amare, 2020).\\nIn summary, cash transfers, subsidies, education, and supportive policies are vital to fostering the\\nadoption of agroforestry. This approach not only enhances environmental sustainability but also\\npromotes rural development, providing smallholder farmers with the tools and financial support\\nnecessary to thrive in the face of climate challenges (Castle et al., 2021; Wato & Amare, 2020).\\n\")]"
      ]
     },
     "execution_count": 61,
     "metadata": {},
     "output_type": "execute_result"
    }
   ],
   "source": [
    "loader=TextLoader(\"agroforestry.txt\")\n",
    "text_documents=loader.load()\n",
    "text_documents"
   ]
  },
  {
   "cell_type": "code",
   "execution_count": 7,
   "metadata": {},
   "outputs": [
    {
     "data": {
      "text/plain": [
       "[Document(metadata={'source': 'Review.pdf', 'page': 0, 'page_label': '1'}, page_content=\"Agroforestrylitreview(Draft)\\nIntroduction\\nClimatechangeandlossof biodiversityseriouslyaffectsthewell-beingof humansandlifeonearth, includingsignificant impact onfoodproductionandtheagricultural system, whichrequiressolutionsthat workwell andarecost-effective. Thisreviewcoverstheliteratureontheeffectsofclimatechangeonagriculture, foodproduction, andfarmerstoexplainthecaseforfightingclimatechangebyincreasingtreecoverthroughagroforestry, whichisanature-basedsolutionthatintegratestreesandshrubsintoagricultural land, creatingsystemsthat enhancebothecologicalandeconomicresilience. Thismethodnot onlycombatslanddegradationbut alsorestoressoilhealthbyimprovingnutrient cyclingandincreasingorganicmattercontent, whichiscrucial incountrieslikeIndiawheresignificant portionsof agricultural landsuffersfromdegradation.Agroforestryeffectivelyaddressesmultipleenvironmental challengesbynot onlyenhancingbiodiversitybut alsoplayingasignificant roleincarbonsequestrationtomitigateclimatechangeimpacts. Theincreaseinbiodiversitybycreatingvital habitatsfordifferent plantsandanimalsalsosupportsecosystemservicessuchaspollinationandsoil health. Agroforestryisacrucial tool tofight climatechangebysequesteringcarbonandrevitalizedegradedlandwhichleadstobettercropyieldsandhigherincomesforfarmers.\\nClimatechange'simpactonfarmeryields\\nClimatechangeisincreasinglydisruptingagricultural productivity, particularlyinregionsreliant onrain-fedfarming, byshiftingtemperaturesandrainfall patterns, whichinturnreducecropyieldsandthreatenfoodsecurity(Castleetal.,2021). Farmersfacegrowingchallengesinresourcemanagement duetoerraticweather, withrisingtemperatures, droughts, andfloodsnegativelyimpactingsoil moistureandcropgrowth. Thisisparticularlysevereinlow-andmiddle-incomecountries, whereagricultureisakeylivelihoodsource, andfarmershavelimitedresourcestoadapt(Castleetal.,2021).\\nInIndia, theimpact of climatechangeonstaplecropslikericeandwheat isespeciallyconcerning.Together, thesecropsoccupynearlyhalf of thecountry’sarableland, withricegrownon31%andwheat on20%. Climatemodelsproject that between2010and2039, yieldsof thesecropscoulddeclineby4.5–9%, andby2070–2099, theymaydropbyat least 25%, unlessadaptationstrategiesareimplemented(Guiteras,2009). Thiswouldposeasignificant threat tofoodsecurityandfarmerincomes. Additionally, withover60%of India’scultivatedlandreliant onrain-fedsystems, erraticrainfall patternsfurtherexacerbatethevulnerabilityof agriculture, emphasizingtheneedforwater-savingtechniquesandstableirrigationsystems(Srinivasraoetal.,2015).\\nExtremeweathereventsresult inannual croplosses, whichequatetoabout 0.25%of India’sGDP(MoEF,2010). Beyondeconomiclosses, thesocial impact issevere. AsCarleton(2017)notes,growingdebt burdenscausedbyyieldreductionshaveledtoariseinfarmersuicides.Furthermore, theagricultural sectorisundergoingademographicshift, withfewercultivatorsand\"),\n",
       " Document(metadata={'source': 'Review.pdf', 'page': 1, 'page_label': '2'}, page_content='moreagricultural laborers—atrendGupta(2016)attributestotheincreasingpressuresonfarming.Thishighlightstheurgent needformoresustainableandresilient farmingpracticestosecurelivelihoodsandfoodproduction.\\nFarmersstrugglingwithsoildegradationandreasonsfordegradation\\nSoil healthisessential forsustainableagriculture, yet manyfarmersfacechallengeslikeerosion,nutrient loss, andcompaction, oftendrivenbyconventional farming, deforestation, andclimatechange(Tomaretal.,2021; Fahadetal.,2022). Theseissuesposesignificant riskstoagriculturalproductivityandglobal foodsecurity(Fahadetal.,2022).\\nTheGreenRevolution, initiatedbytheIndiangovernment inthe1960s, improvedfoodsecuritybutalsocontributedtowidespreadlanddegradation. Theheavyuseof chemical fertilizers, pesticides,andhigh-yieldseedsledtosoil exhaustion, nutrient depletion, andbiodiversityloss(Singh,2000).Water-intensivecropsinunsuitableregionsfurtherexacerbatedgroundwaterdepletionandsalinization. Long-termeffectsincludesoil erosionandreducedfertility, particularlyduetomonocultureandunsustainablefarmingpractices(Pingali,2012).\\nDeforestationandunsustainableagriculturefurtheracceleratesoil degradationbyexposingsoil toerosionanddisruptingnutrient cycles(Fahadetal.,2022). Climatechangecompoundstheseissuesbyintensifyingextremeweathereventsandalteringrainfall patterns, worseningsoil health.\\nGlobally, 24%of theworld’slandisexperiencingdegradation, affecting1.5billionpeople(IPBES,2018). InIndia, 29%of thecountry’sland—about 96.4millionhectares—suffersfromdegradationduetodeforestation, overgrazing, andunsustainableagricultural practices(ISRO,2016). Thisthreatensagricultural productivity, foodsecurity, andbiodiversity.\\nSoil degradationresultsinlowercropyields, reducedfarmincome, andincreasedrestorationcosts, makingsustainablepracticeslikeagroforestryessential forrestoringsoil healthandensuringagricultural sustainability(Tomaretal.,2021; Fahadetal.,2022).\\nBiodiverseagroforestryasasolution\\nBiodiverseagroforestry, whichintegratesdiversetrees, shrubs, crops, andlivestock, fosterssustainableagriculturebyenhancingsoil health, pest control, andecosystemservices. Thisapproachreducesdependencyonchemical inputsthroughnatural pest management supportedbyplant diversity(Salveetal.,2022; Singhetal.,2021).\\nAgroforestrysystemsalsoincreaseyieldsandresourceefficiencythroughintercroppingandnatural processeslikenutrient cyclingandcarbonsequestration(Satishetal.,2024). Treesimprovesoil structure, reduceerosion, andboost waterretention, all of whichsupport cropgrowth(Sekharetal.,2024). Thesesystemsalsoregulatewatercyclesandsequestercarbon, mitigating'),\n",
       " Document(metadata={'source': 'Review.pdf', 'page': 2, 'page_label': '3'}, page_content=\"climatechangeandstabilizingmicroclimates, providingresilienceagainst weatherextremes(Tschora&Cherubini,2020; Schoeneberger,2008).\\nAgroforestryhasthepotential torestoredegradedlandsandimproveagricultural productivity. Anestimated1billionhectaresof global agricultural landcouldbenefit fromagroforestry, representing43%of all agricultural landworldwide(Zomeretal.,2009). InIndia, theNationalAgroforestryPolicy2014highlightsthepotential torehabilitate25millionhectaresof degradedlandthroughagroforestry, withthepracticeexpandableto65%of India’sagricultural land, improvingsoil healthandfarmerincomes.\\nAgroforestrynot onlyenhancessoil healthandagricultural resiliencebut alsosupportsbiodiversity,conserveswater, andoffersfarmersdiversifiedincomesourcesthroughtimberandotherproducts(Fahadetal.,2022). Thismakesagroforestryasustainableandeconomicallyviablestrategyforclimateadaptationandlandrestoration(Mondaletal.,2023).\\nInsummary, biodiverseagroforestryoffersasustainablesolutionbyenhancingsoil health,improvingclimateadaptation, andprovidingecosystemservices. Itsadoptioniscrucial toaddressingglobal challengeslikefoodsecurity, climatechange, andenvironmental degradation.\\nAgroforestry'simpactonfarmerincomes\\nAgroforestrysignificantlyincreasesfarmerincomesbydiversifyingrevenuestreamsandimprovingcropyields. Studiesshowthat integratingtreesintoagricultural systemscanboost yieldsby20%to50%, thankstoimprovedsoil health, betterwaterretention, andmicroclimateregulation(Prettyetal.,2018). Systemslikealleycroppingandsilvopastureenhancenutrient cyclingandreduceerosion, leadingtohigherproductivity.\\nAgroforestryalsodiversifiesincomesourcesbyprovidingtimber, fruits, andnon-timberproducts,reducingfarmers’ relianceonsinglecropsandimprovingresilience(Pancholietal.,2023). Forexample, inMadagascar, agroforestrysystemsthat incorporatecropslikevanillaandcocoacontributesignificantlytoexports(Andriatsitohainaetal.,2024). Studiesestimatethat agroforestrycanboost farmerincomesby30%to60%throughthesediversifiedproductsandimprovedyields(Mbowetal.,2014).\\nInJharkhand, India, mangoplantationssupportedbytheMahatmaGandhi National RuralEmployment GuaranteeAct (MGNREGA)havenotablyincreasedfarmerincomesthroughcropdiversificationandhigheryields, providinglong-termeconomicbenefitsforrural communities(Dreze&Nair,2023).\\nThispracticeimprovesfoodsecuritybydiversifyingbothincomeandfoodsources, makingfarmersmoreresilient tomarket fluctuationsandcropfailures(Castleetal.,2021). It alsocontributestorural development byempoweringsmallholders, fosteringcommunityinitiatives, andbuildinglocalskills(Satishetal.,2024; Singhetal.,2021).\"),\n",
       " Document(metadata={'source': 'Review.pdf', 'page': 3, 'page_label': '4'}, page_content=\"Agroforestry'simpactonreversingsoildegradation\\nAgroforestryoffersahighlyeffectivesolutiontosoil degradationbyimprovingsoil healthandincreasingecosystemresilience(Salveetal.,2022; Fahadetal.,2022). Theintegrationof treesstabilizessoil, reduceserosion, andenhancesnutrient cycling, significantlyincreasingorganicmatter, whichboostssoil fertilityandwaterretention(Sekharetal.,2024; Tomaretal.,2021; Wato&Amare,2020). Treescontributetonutrient cyclingbycapturingnutrientslikenitrogenandphosphorus, graduallyreleasingthemintothesoil, reducingtheneedforexternal inputs(Fahadetal.,2022; Sekharetal.,2024).\\nAdditionally, organicmatterfromtreelitterimprovessoil structure, waterretention, andfertility(Sekharetal.,2024; Tomaretal.,2021). Researchdemonstratesthat agroforestrycanreducesoilerosionbyupto50%, increasesoil organiccarbonby21%, andboost nitrogenandphosphorusavailabilityby46%and11%, respectively, whilealsoimprovingsoil pHby2%(Muchaietal.,2020).Theseimprovementsnot onlyenhancesoil healthbut alsocontributetolong-termagriculturalproductivityandsustainability.\\nAgroforestrysystemsareespeciallyeffectiveinincreasingsoil organiccarbon, improvingsoilstructure, andboostingwaterretention, makingthemvital forenhancingresiliencetoclimatechange. Asthesesystemsmaintainhealthysoilsessential forcropgrowth, theyhelpmitigateclimatechangeimpactsbycreatingmoreresilient farmingsystems. Byensuringlong-termproductivity, agroforestrysupportsbothenvironmental sustainabilityandtheeconomicwell-beingoffarmingcommunities, providingasustainablefoundationforfuturegenerationstocombat foodinsecurityandsoil degradationchallenges(Salveetal.,2022; Fahadetal.,2022).\\nThecapacityofrestoredsoilstostoremorewater\\nSoil moistureretentionissignificantlyimprovedthroughagroforestry, whichenhanceswateravailabilityforcropsandpromotesoverall ecosystemhealth. Integratingtreesintoagriculturallandscapesincreasessoil waterstoragebyimprovinginfiltrationratesandreducingsurfacerunoff.Deep-rootedtreescreateporoussoils, allowingrainwatertopenetrateeffectively, reducingbotherosionandwaterloggingrisks(Sekharetal.,2024; Muchaietal.,2020).\\nThesesystemsalsosupport groundwaterrecharge, vital forregionsfacingwaterscarcity(Kuyahetal.,2019). Theincreasedsoil moistureboostsdrought resilience, helpingcropsduringdryperiodsandenhancingfoodsecurityinvulnerableareas(Sekharetal.,2024). Studiesshowthat waterinfiltrationratesinagroforestrysystemsareabout 75%highercomparedtomonocultures, thankstoorganicinputslikeleaf litterthat improvesoil structureandwater-holdingcapacity(Muchaietal.,2020).\\nAgroforestryandmoderatetreecover'simpactonreplenishingthewatertable\"),\n",
       " Document(metadata={'source': 'Review.pdf', 'page': 4, 'page_label': '5'}, page_content='Agroforestrysupportswaterresourcesbyenhancinggroundwaterrechargeandimprovingwaterquality(Castleetal.,2021; Kuyahetal.,2019). Treesinthesesystemsincreasewaterpercolation,reducesurfacerunoff, andaidinwatertablereplenishment (Kuyahetal.,2019). Theirrootsstabilizethesoil, improvingstructureandaidinginwaterretentionanderosioncontrol (Castleetal.,2021). Moderatetreecoverbalancesthehydrological cyclebyinterceptingrainfall, reducingrunoff, andcreatingmicroclimatesthat minimizeevaporation(Satishetal.,2024).\\nAdditionally, agroforestryimproveswaterqualitybyreducingsedimentationandnutrient runoff,whilestabilizingsoil andabsorbingexcessnutrients(Castleetal.,2021; Kuyahetal.,2019).Practicessuchascontourplantingandcovercroppingfurtherenhancetheseeffects(Moryaetal.,2023). Together, thesebenefitsmakeagroforestryavaluablestrategyforreplenishingwatertables,improvingwaterquality, andfosteringagricultural sustainability(Kuyahetal.,2019; Felicianoetal.,2017).\\nTheadditionalbenefitsofdripirrigation\\nDripirrigation, awater-efficient technique, significantlyenhancesagroforestrysystemsbydeliveringwaterdirectlytoplant roots, reducingwasteandconservingwaterresources, particularlyinaridregions(Satishetal.,2024). Byminimizingevaporationandrunoff, dripirrigationgreatlyimproveswateruseefficiency, ensuringcropsreceiveconsistent moisturewhilereducingweedgrowthanddiseaserisks(Satishetal.,2024). Thisalsohelpslowerherbicideuseandpreventsfungal infections, contributingtohealthiercropsandreducinginput costs. Moreover, dripirrigationboostscropproductivitybyimprovingnutrient uptakeandenhancingsoil aeration, leadingtomorevigorousplant growth(Satishetal.,2024).\\nAnotheradvantageof thissystemisitsabilitytoapplyfertilizerswithprecision, whichreducesleachingandminimizesenvironmental impacts(Satishetal.,2024). Whencombinedwithagroforestry, dripirrigationprovidesadditional synergies, suchasenhancedsoil moistureretention,microclimateregulationthroughtreeshade, andbetterresourceoptimization, all of whichsupportbiodiversity, soil health, andwaterquality(Satishetal.,2024).\\nInMaharashtra, researchhighlightsthat dripirrigationresultsinsubstantial waterandenergysavings, withfarmerssaving₹1.1lakhperhectareforsugarcaneand₹69.9thousandperhectareforbanana(Gorainetal.,2018). Thesesavingsinbothwaterandelectricitycontributesignificantlytocost reductions, whilesocial benefits, suchasoff-farmemployment, enhancetheoveralleconomicimpact. However, social costsincludegovernment subsidiesandinvestmentsinwellconstruction. Despitethesecosts, thebenefit-cost ratioof dripirrigationover10yearswasfoundtobe2.08at a10%discount rate(Gorainetal.,2018).\\nByoptimizingwateruseandboostingproductivity, dripirrigationsupportsbothecologicalsustainabilityandeconomicresilience, makingit acritical component of sustainableagroforestrysystems(Satishetal.,2024).'),\n",
       " Document(metadata={'source': 'Review.pdf', 'page': 5, 'page_label': '6'}, page_content='Theimportanceofcashtransfersandsubsidiesinhelpingfarmerstransitiontoagroforestryandsustainableenvironmentalpractices\\nThetransitiontoagroforestryoftenrequiressignificant investmentsandchangesinfarmingpractices, posingconsiderablechallengesforsmallholderfarmersinlow-incomeregions(Castleetal.,2021; Wato&Amare,2020). EstimatesfromF4F’sworkindicatethat thecost totransitionrangesfrom$1800to$2000perhectareor$1.5to$2pertree. Similarly, intheBrazilianAmazon,costshavebeenestimatedbetween$1500and$2000perhectare. Whilepassivereforestationorassistednatural regeneration(helpingtheforest growbackinareaswhereit alreadyexisted)issignificantlycheaper, transitioningtoagroforestryonagricultural landsisexpensivegiventheextent of soil degradationontheselands.\\nCashtransfersareakeytool insupportingfarmersthroughthistransitionbyreducingfinancialbarriersandpromotinglong-terminvestments. Agroforestrypractices, whichimprovesoil healthandcarbonsequestration, oftencomewithupfront costsforseedlings, labor, andmaintenance,makingadoptiondifficult forresource-constrainedfarmers. Jayachandranetal.(2017)foundthatcashtransfershelpoffset thesecostsandprovideshort-termincomesecurity, encouragingtheadoptionof sustainableland-usepractices. Financial support hasbeenshowntosignificantlyincreaseparticipationratesinagroforestryprograms, leadingtobetterenvironmental outcomesandenhancedrural livelihoods.\\nInadditiontosupportingagroforestry, cashtransfersplayacrucial roleinreducingdeforestationbyofferingfinancial support torural communities, enablingthemtoadopt sustainablepractices(Hance,2017). Thelackof fundsoftenservesasamajorbarriertoimplementingsolutionsthatcouldreducedeforestationrates. Financial incentiveshelpmitigatetheeconomicpressuresfacedbycommunities, leadingtomoresustainablelanduseandconservationefforts.\\nAregressiondiscontinuityanalysisof Mexico’sNational Programdemonstratesthepotential ofcashtransferstobalanceecological goalswithsocioeconomicbenefits. Theprogramshowedthatfinancial support not onlyreduceddeforestationbut alsoimprovedsocial outcomes, providinglong-termbenefitsforlocal communities(Alix-Garciaetal.,2019).\\nBylinkingfinancial support tosustainablepractices, policymakerscanencouragetheplantingoftreespeciesthat improveecosystemservices, suchasnitrogen-fixersordrought-tolerant varieties(Castleetal.,2021). Cashtransfersalsoact asasafetynet against climaterisks, enablingfarmerstoinvest inclimate-resilient agroforestrysystems, whichareessential inregionsfacingincreasinglyunpredictableweatherpatterns(Gifawesenetal.,2020; Sekharetal.,2024).\\nHowever, financial support aloneisnot sufficient. Trainingprogramsareessential forequippingfarmerswiththeknowledgeneededforsuccessful agroforestry, suchastreeselection, plantingtechniques, andproduct marketing(Satishetal.,2024; Vermaetal.,2016). Furthermore, effectivepolicyframeworksshouldaddressissuessuchaslandtenure, market development, andequitableaccesstoresources, ensuringlong-termsuccessinagroforestryadoption(Castleetal.,2021;Wato&Amare,2020).'),\n",
       " Document(metadata={'source': 'Review.pdf', 'page': 6, 'page_label': '7'}, page_content='Insummary, cashtransfers, subsidies, education, andsupportivepoliciesarevital tofosteringtheadoptionof agroforestry. Thisapproachnot onlyenhancesenvironmental sustainabilitybut alsopromotesrural development, providingsmallholderfarmerswiththetoolsandfinancial supportnecessarytothriveinthefaceof climatechallenges(Castleetal.,2021; Wato&Amare,2020).\\nReferences\\n1. Alix-Garcia,JenniferM.; Sims,KatharineR. Emans; OrozcoOlvera,VictorHugo; Costica,LauraElena; FernandezMedina.JorgeDavid; Romo-Monroy,Sofia; Pagiola,StefanoP. (2019). CanEnvironmental CashTransfersReduceDeforestationandImproveSocial OutcomesARegressionDiscontinuityAnalysisof Mexico’sNational Program(2011-2014)(English).PolicyResearchworkingpaper,no. WPS8707,Impact EvaluationseriesWashington, D.C. : WorldBankGroup.Retrievedfromhttp://documents.worldbank.org/curated/en/694951547752004287/Can-Environmental-Cash-Transfers-Reduce-Deforestation-and-Improve-Social-Outcomes-A-Regression-Discontinuity-Analysis-of-Mexico-s-National-Program-2011-2014\\n2. Andriatsitohaina, R. N. N., Laby, P., Llopis, J. C., &Martin, D. A. (2024). AgroforestryinMadagascar: Past, present, andfuture. AgroforestrySystems.https://doi.org/10.1007/s10457-024-00975-y\\n3. Carleton, T. A. (2017). Crop-damagingtemperaturesincreasesuicideratesinIndia.Proceedingsof theNational Academyof Sciences, 114(33), 8746-8751.https://doi.org/10.1073/pnas.1701354114\\n4. Castle, S. E., Miller, D. C., Ordonez, P. J., Baylis, K., &Hughes, K. (2021). Theimpactsofagroforestryinterventionsonagricultural productivity, ecosystemservices, andhumanwell-beinginlow-andmiddle-incomecountries: Asystematicreview. Campbell SystematicReviews, 17(2), e1167. https://doi.org/10.1002/cl2.1167\\n5. Dollinger, J., &Jose, S. (2018). Agroforestryforsoil health. AgroforestrySystems, 92(4),1069-1084. https://doi.org/10.1007/s10457-018-0223-9\\n6. Dreze. J., Nair. N. (2023, March14). Mangoplantationareminderof howNREGAcantremendouslycontributetorural development. TheEconomicTimes. Retrievedfromhttps://economictimes.indiatimes.com/opinion/et-commentary/mango-plantation-a-reminder-of-how-nrega-can-tremendously-contribute-to-rural-development/articleshow/98613894.cms?from=mdr\\n7. Fahad, S., Chavan, S. B., Chichaghare, A. R., Uthappa, A. R., Kumar, M., Kakade, V.,Pradhan, A., Jinger, D., Rawale, G., Yadav, D. K., Kumar, V., Farooq, T. H., Ali, B., Sawant, A.V., Saud, S., Chen, S., &Poczai, P. (2022). Agroforestrysystemsforsoil healthimprovementandmaintenance. Sustainability, 14(22), 14877. https://doi.org/10.3390/su142214877\\n8. Feliciano, D., Ledo, A., Hillier, J., &Nayak, D. (2017). Whichagroforestryoptionsgivethegreatest soil andabovegroundcarbonbenefitsindifferent worldregions?Agriculture,Ecosystems&Environment, 254, 177-187. https://doi.org/10.1016/j.agee.2017.11.032\\n9. Gifawesen, S. T., Tola, F. K., &Duguma, M. S. (2020). Reviewonroleof homegardenagroforestrypracticestoimprovelivelihoodof small-scalefarmersandclimatechange'),\n",
       " Document(metadata={'source': 'Review.pdf', 'page': 7, 'page_label': '8'}, page_content='adaptationandmitigation. Journal of Plant Sciences, 8(5), 125-131.https://doi.org/10.11648/j.jps.20200805.15\\n10.Gorain, S., Singh, D.R., Kumar, P., Venkatesh, P., &Jha, G.K. (2018). Social costsandbenefitsanalysisof dripirrigationsysteminNorthernMaharashtra. EconomicAffairs.https://doi.org/10.30954/0424-2513.4.2018.32\\n11. Gupta, N. (2016). Declineof cultivatorsandgrowthof agricultural labourersinIndiafrom2001to2011. International Journal of Rural Management, 12(2), 179-198.https://doi.org/10.1177/0973005216665939\\n12.Guiteras, R. (2009). Theimpact of climatechangeonIndianagriculture. Manuscript, Universityof Maryland. Retrievedfromhttp://econdse.org/wp-content/uploads/2014/04/guiteras_climate_change_indian_agriculture_sep_2009.pdf\\n13.Hance. J. (2017, July28). Weknowhowtocut deforestation, wejust haven’t got themoneytodoit. TheGuardian.https://www.theguardian.com/global-development-professionals-network/2017/jul/28/we-know-how-to-cut-deforestation-we-just-havent-got-the-money-to-do-it\\n14.IndianSpaceResearchOrganisation. (2016). DesertificationandLandDegradationAtlasofIndia(Version3). SpaceApplicationsCentre, ISRO. Retrievedfromhttps://www.sac.gov.in/SACSITE/Desertification_Atlas_2016_SAC_ISRO.pdf\\n15.Intergovernmental Science-PolicyPlatformonBiodiversityandEcosystemServices(IPBES).(2018). TheIPBESassessment report onlanddegradationandrestoration. Montanarella, L.,Scholes, R., &Brainich, A. (Eds.). Bonn, Germany: Secretariat of theIntergovernmentalScience-PolicyPlatformonBiodiversityandEcosystemServices.https://doi.org/10.5281/zenodo.3237392\\n16.Jayachandran, S., deLaat, J., Lambin, E. F., Stanton, C. Y., Audy, R., &Thomas, N. E. (2017).Cashforcarbon: Arandomizedtrial of paymentsforecosystemservicestoreducedeforestation. Science, 357(6348), 267-273. https://doi.org/10.1126/science.aan0568\\n17.Kuyah, S., Whitney, C., Jonsson, M., Sileshi, G. W., Born, I., Muthuri, C., &Luedeling, E.(2019). Agroforestrydeliversawin-winsolutionforecosystemservicesinsub-SaharanAfrica:Ameta-analysis. AgronomyforSustainableDevelopment, 39, Article47.https://doi.org/10.1007/s13593-019-0589-8\\n18.Mbow, C., Smith, P., Skole, D., Duguma, L., &Bustamante, M. (2014). AchievingmitigationandadaptationtoclimatechangethroughsustainableagroforestrypracticesinAfrica. CurrentOpinioninEnvironmental Sustainability, 6, 8-14. https://doi.org/10.1016/j.cosust.2013.09.002\\n19.Ministryof Environment andForests(MoEF). (2010). India: Greenhousegasemissions2007.Government of India. Retrievedfromhttps://www.iitr.ac.in/wfw/web_ua_water_for_welfare/water/WRDM/MOEF_India_GHG_Emis_2010.pdf'),\n",
       " Document(metadata={'source': 'Review.pdf', 'page': 8, 'page_label': '9'}, page_content='20.Mondal, S., Angon, P. B., &Roy, A. (2023). Ecological advancementsanddevelopmentsofagroforestry. TurkishJournal of AgricultureandForestry, 11(12), 2476-2480.https://doi.org/10.24925/turjaf.v11i12.2476-2480.6172\\n21.Morya, R., Bhargava, A., Lalitha, G. R., Vamshi, M., Verma, S., Rastogi, M., &Raj, S. (2023).Soil management practicestoenhancecarbonsequestrationrates-Areview. InternationalJournal of Environment andClimateChange, 13(11), 356-363.https://doi.org/10.9734/ijecc/2023/v13i113556\\n22.Muchai, M., Sileshi, G. W., Gripenberg, S., Jonsson, M., Pumario, L., &Barrios, E. (2020).Agroforestryboostssoil healthinthehumidandsub-humidtropics: Ameta-analysis.Agriculture, Ecosystems&Environment, 295, 106899.https://doi.org/10.1016/j.agee.2020.106899\\n23.Pancholi, R., Yadav, R., Gupta, H., Vasure, N., Choudhary, S., Singh, M. N., &Rastogi, M.(2023). Theroleof agroforestrysystemsinenhancingclimateresilienceandsustainability: Areview. International Journal of Environment andClimateChange, 13(11), 315-330.https://doi.org/10.9734/ijecc/2023/v13i113615\\n24.Pingali, P. L. (2012). GreenRevolution: Impacts, limits, andthepathahead. Proceedingsof theNational Academyof Sciences, 109(31), 12302-12308.https://doi.org/10.1073/pnas.0912953109\\n25.Pretty, J., Benton, T. G., Bharucha, Z. P., Dicks, L. V., Flora, C. B., Godfray, H. C. J., Goulson,D., Hartley, S., Lampkin, N., Morris, C., Pierzynski, G., Prasad, P. V. V., Reganold, J.,Rockström, J., Smith, P., Thorne, P., &Wratten, S. (2018). Global assessment of agriculturalsystemredesignforsustainableintensification. NatureSustainability, 1(8), 441–446.https://doi.org/10.1038/s41893-018-0114-0\\n26.Salve, A., Tiwari, C., &Baghele, L. (2022). Impact of agroforestrysystems: Areview. AsianJournal of Microbiology, Biotechnology&Environmental Sciences, 24(2), 2-9.http://doi.org/10.53550/AJMBES.2022.v24i02.002\\n27.Satish, P., Madiwalar, A. F., Lallawmkimi, M. C., Reddy, K. J., Parveen, S., A. P., Laxman, T.,Kiruba, M., &Anand, G. (2024). Agroforestry: Multifunctional benefitsandimplementationstrategies. Journal of Geography, Environment andEarthScienceInternational, 28(1),821-835. https://doi.org/10.9734/jgeesi/2024/v28i10821\\n28.Schoeneberger, M. (2008). Agroforestry: Workingtreesforsequesteringcarbononagriculturallands. AgroforestrySystems, 75(1), 27-37. https://doi.org/10.1007/s10457-008-9123-8\\n29.Sekhar, M. andLallawmkimi, MichelleC. andRani, Doppalapudi VijayaandUpadhyay, LalitandTiwari, Prashant andVerma, Urvashi andRajput, Aashu(2024)AgroforestryPracticesandTheirImpact onSoil HealthandFertility: AReview.Journal of Experimental AgricultureInternational, 46(9). pp. 511-528. ISSN2457-0591'),\n",
       " Document(metadata={'source': 'Review.pdf', 'page': 9, 'page_label': '10'}, page_content='30.Singh, R. B. (2000). Environmental consequencesof agricultural development: AcasestudyfromtheGreenRevolutionstateof Haryana, India. Agriculture, Ecosystems&Environment,82(1–3), 97–103. https://doi.org/10.1016/S0167-8809(00)00219-X\\n31.Singh, V., Johar, V. Kumar, R., &Chaudhary, M. (2021). Socio-economicandenvironmentalassetssustainabilitybyagroforestrysystems: Areview. International Journal of Agriculture,Environment, andBiotechnology, 14(04): 521-533.https://doi.org/10.30954/0974-1712.04.2021.6\\n32.Srinivasrao, C., Lal, R., Prasad, J. V. N. S., Gopinath, K. A., Singh, R., Jakkula, V., Sahrawat,K., Venkateswarlu, B., Sikka, A., &Virmani, S. M. (2015). Potential andchallengesof rainfedfarminginIndia. AdvancesinAgronomy, 133, 115-181.https://doi.org/10.1016/bs.agron.2015.05.004\\n33.Taye, S. T., Tola, F. K., &Duguma, M. S. (2020). Reviewontheroleof homegardenagroforestrypracticestoimprovethelivelihoodof small-scalefarmersandclimatechangeadaptationandmitigation. SciencePublishingGroup.https://doi.org/10.11648/j.jps.20200805.15\\n34.Tomar, J. M. S., Ahmed, A., Bhat, J. A., Kaushal, R., Shukla, G., &Kumar, R. (2021). Potentialandopportunitiesof agroforestrypracticesincombatinglanddegradation. IntechOpen.https://doi.org/10.5772/intechopen.97843\\n35.Tschora, H., &Cherubini, F. (2020). Co-benefitsandtrade-offsof agroforestryforclimatechangemitigationandothersustainabilitygoalsinWest Africa. ElsevierBV.https://doi.org/10.1016/j.gecco.2020.e00919\\n36.Verma, S., Singh, V., Verma, D., &Giri, S. (2016). AgroforestrypracticesandconceptsinsustainablelandusesystemsinIndia. International Journal of ForestryandCropImprovement.https://doi.org/10.15740/HAS/IJFCI/7.1/126-131\\n37.Visscher, A. M., Meli, P., Fonte, S. J., Bonari, G., Zerbe, S., &Wellstein, C. (2024). Agroforestryenhancesbiological activity, diversity, andsoil-basedecosystemfunctionsinmountainagroecosystemsof LatinAmerica: Ameta-analysis. Global ChangeBiology.https://doi.org/10.1111/gcb.17036\\n38.Wato, T., &Amare, M. (2020). Opportunitiesandchallengesof scalingupagroforestrypracticesinSub-SaharanAfrica: Areview. Agricultural Reviews.https://doi.org/10.18805/AG.R-154\\n39.ZomerRJ, TrabuccoA, CoeRandPlaceF. (2009). TreesonFarm: Analysisof Global ExtentandGeographical Patternsof Agroforestry. ICRAFWorkingPaperno. 89. Nairobi, Kenya:WorldAgroforestryCentre. Retrievedfromhttps://www.researchgate.net/publication/281748825_Trees_on_farm_analysis_of_global_extent_and_geographical_patterns_of_agroforestry')]"
      ]
     },
     "execution_count": 7,
     "metadata": {},
     "output_type": "execute_result"
    }
   ],
   "source": [
    "from langchain_community.document_loaders import PyPDFLoader\n",
    "\n",
    "loader = PyPDFLoader(\"Review.pdf\")\n",
    "docs= loader.load()\n",
    "docs\n"
   ]
  },
  {
   "cell_type": "code",
   "execution_count": 62,
   "metadata": {},
   "outputs": [
    {
     "data": {
      "text/plain": [
       "[Document(metadata={'source': 'agroforestry.txt'}, page_content='Agroforestry lit review (Draft)\\nIntroduction\\nClimate change and loss of biodiversity seriously affects the well-being of humans and life on\\nearth, including significant impact on food production and the agricultural system, which requires'),\n",
       " Document(metadata={'source': 'agroforestry.txt'}, page_content='solutions that work well and are cost-effective. This review covers the literature on the effects of\\nclimate change on agriculture, food production, and farmers to explain the case for fighting climate\\nchange by increasing tree cover through agroforestry, which is a nature-based solution that'),\n",
       " Document(metadata={'source': 'agroforestry.txt'}, page_content='integrates trees and shrubs into agricultural land, creating systems that enhance both ecological\\nand economic resilience. This method not only combats land degradation but also restores soil\\nhealth by improving nutrient cycling and increasing organic matter content, which is crucial in'),\n",
       " Document(metadata={'source': 'agroforestry.txt'}, page_content='countries like India where significant portions of agricultural land suffers from degradation.\\nAgroforestry effectively addresses multiple environmental challenges by not only enhancing\\nbiodiversity but also playing a significant role in carbon sequestration to mitigate climate change'),\n",
       " Document(metadata={'source': 'agroforestry.txt'}, page_content='impacts. The increase in biodiversity by creating vital habitats for different plants and animals also\\nsupports ecosystem services such as pollination and soil health. Agroforestry is a crucial tool to\\nfight climate change by sequestering carbon and revitalize degraded land which leads to better')]"
      ]
     },
     "execution_count": 62,
     "metadata": {},
     "output_type": "execute_result"
    }
   ],
   "source": [
    "from langchain.text_splitter import RecursiveCharacterTextSplitter\n",
    "\n",
    "\n",
    "text_splitter = RecursiveCharacterTextSplitter(chunk_size=300, chunk_overlap=50)\n",
    "documents=text_splitter.split_documents(text_documents)\n",
    "documents[:5]\n"
   ]
  },
  {
   "cell_type": "code",
   "execution_count": 63,
   "metadata": {},
   "outputs": [
    {
     "data": {
      "text/plain": [
       "[Document(metadata={'source': 'agroforestry.txt'}, page_content='Agroforestry lit review (Draft)\\nIntroduction\\nClimate change and loss of biodiversity seriously affects the well-being of humans and life on\\nearth, including significant impact on food production and the agricultural system, which requires'),\n",
       " Document(metadata={'source': 'agroforestry.txt'}, page_content='solutions that work well and are cost-effective. This review covers the literature on the effects of\\nclimate change on agriculture, food production, and farmers to explain the case for fighting climate\\nchange by increasing tree cover through agroforestry, which is a nature-based solution that'),\n",
       " Document(metadata={'source': 'agroforestry.txt'}, page_content='integrates trees and shrubs into agricultural land, creating systems that enhance both ecological\\nand economic resilience. This method not only combats land degradation but also restores soil\\nhealth by improving nutrient cycling and increasing organic matter content, which is crucial in'),\n",
       " Document(metadata={'source': 'agroforestry.txt'}, page_content='countries like India where significant portions of agricultural land suffers from degradation.\\nAgroforestry effectively addresses multiple environmental challenges by not only enhancing\\nbiodiversity but also playing a significant role in carbon sequestration to mitigate climate change'),\n",
       " Document(metadata={'source': 'agroforestry.txt'}, page_content='impacts. The increase in biodiversity by creating vital habitats for different plants and animals also\\nsupports ecosystem services such as pollination and soil health. Agroforestry is a crucial tool to\\nfight climate change by sequestering carbon and revitalize degraded land which leads to better'),\n",
       " Document(metadata={'source': 'agroforestry.txt'}, page_content=\"crop yields and higher incomes for farmers.\\nClimate change's impact on farmer yields\\nClimate change is increasingly disrupting agricultural productivity, particularly in regions reliant on\\nrain-fed farming, by shifting temperatures and rainfall patterns, which in turn reduce crop yields and\"),\n",
       " Document(metadata={'source': 'agroforestry.txt'}, page_content='threaten food security (Castle et al., 2021). Farmers face growing challenges in resource\\nmanagement due to erratic weather, with rising temperatures, droughts, and floods negatively\\nimpacting soil moisture and crop growth. This is particularly severe in low- and middle-income'),\n",
       " Document(metadata={'source': 'agroforestry.txt'}, page_content='countries, where agriculture is a key livelihood source, and farmers have limited resources to adapt\\n(Castle et al., 2021).\\nIn India, the impact of climate change on staple crops like rice and wheat is especially concerning.'),\n",
       " Document(metadata={'source': 'agroforestry.txt'}, page_content='Together, these crops occupy nearly half of the countryâ€™s arable land, with rice grown on 31% and\\nwheat on 20%. Climate models project that between 2010 and 2039, yields of these crops could\\ndecline by 4.5â€“9%, and by 2070â€“2099, they may drop by at least 25%, unless adaptation'),\n",
       " Document(metadata={'source': 'agroforestry.txt'}, page_content='strategies are implemented (Guiteras, 2009). This would pose a significant threat to food security\\nand farmer incomes. Additionally, with over 60% of Indiaâ€™s cultivated land reliant on rain-fed\\nsystems, erratic rainfall patterns further exacerbate the vulnerability of agriculture, emphasizing the'),\n",
       " Document(metadata={'source': 'agroforestry.txt'}, page_content='need for water-saving techniques and stable irrigation systems (Srinivasrao et al., 2015).\\nExtreme weather events result in annual crop losses, which equate to about 0.25% of Indiaâ€™s GDP\\n(MoEF, 2010). Beyond economic losses, the social impact is severe. As Carleton (2017) notes,'),\n",
       " Document(metadata={'source': 'agroforestry.txt'}, page_content='growing debt burdens caused by yield reductions have led to a rise in farmer suicides.\\nFurthermore, the agricultural sector is undergoing a demographic shift, with fewer cultivators and\\nmore agricultural laborersâ€”a trend Gupta (2016) attributes to the increasing pressures on farming.'),\n",
       " Document(metadata={'source': 'agroforestry.txt'}, page_content='This highlights the urgent need for more sustainable and resilient farming practices to secure\\nlivelihoods and food production.\\nFarmers struggling with soil degradation and reasons for\\ndegradation\\nSoil health is essential for sustainable agriculture, yet many farmers face challenges like erosion,'),\n",
       " Document(metadata={'source': 'agroforestry.txt'}, page_content='nutrient loss, and compaction, often driven by conventional farming, deforestation, and climate\\nchange (Tomar et al., 2021; Fahad et al., 2022). These issues pose significant risks to agricultural\\nproductivity and global food security (Fahad et al., 2022).'),\n",
       " Document(metadata={'source': 'agroforestry.txt'}, page_content='The Green Revolution, initiated by the Indian government in the 1960s, improved food security but\\nalso contributed to widespread land degradation. The heavy use of chemical fertilizers, pesticides,\\nand high-yield seeds led to soil exhaustion, nutrient depletion, and biodiversity loss (Singh, 2000).'),\n",
       " Document(metadata={'source': 'agroforestry.txt'}, page_content='Water-intensive crops in unsuitable regions further exacerbated groundwater depletion and\\nsalinization. Long-term effects include soil erosion and reduced fertility, particularly due to\\nmonoculture and unsustainable farming practices (Pingali, 2012).'),\n",
       " Document(metadata={'source': 'agroforestry.txt'}, page_content='Deforestation and unsustainable agriculture further accelerate soil degradation by exposing soil to\\nerosion and disrupting nutrient cycles (Fahad et al., 2022). Climate change compounds these\\nissues by intensifying extreme weather events and altering rainfall patterns, worsening soil health.'),\n",
       " Document(metadata={'source': 'agroforestry.txt'}, page_content='Globally, 24% of the worldâ€™s land is experiencing degradation, affecting 1.5 billion people (IPBES,\\n2018). In India, 29% of the countryâ€™s landâ€”about 96.4 million hectaresâ€”suffers from degradation\\ndue to deforestation, overgrazing, and unsustainable agricultural practices (ISRO, 2016). This'),\n",
       " Document(metadata={'source': 'agroforestry.txt'}, page_content='threatens agricultural productivity, food security, and biodiversity.\\nSoil degradation results in lower crop yields, reduced farm income, and increased restoration\\ncosts, making sustainable practices like agroforestry essential for restoring soil health and ensuring'),\n",
       " Document(metadata={'source': 'agroforestry.txt'}, page_content='agricultural sustainability (Tomar et al., 2021; Fahad et al., 2022).\\nBiodiverse agroforestry as a solution\\nBiodiverse agroforestry, which integrates diverse trees, shrubs, crops, and livestock, fosters\\nsustainable agriculture by enhancing soil health, pest control, and ecosystem services. This'),\n",
       " Document(metadata={'source': 'agroforestry.txt'}, page_content='approach reduces dependency on chemical inputs through natural pest management supported by\\nplant diversity (Salve et al., 2022; Singh et al., 2021).\\nAgroforestry systems also increase yields and resource efficiency through intercropping and'),\n",
       " Document(metadata={'source': 'agroforestry.txt'}, page_content='natural processes like nutrient cycling and carbon sequestration (Satish et al., 2024). Trees\\nimprove soil structure, reduce erosion, and boost water retention, all of which support crop growth\\n(Sekhar et al., 2024). These systems also regulate water cycles and sequester carbon, mitigating'),\n",
       " Document(metadata={'source': 'agroforestry.txt'}, page_content='climate change and stabilizing microclimates, providing resilience against weather extremes\\n(Tschora & Cherubini, 2020; Schoeneberger, 2008).\\nAgroforestry has the potential to restore degraded lands and improve agricultural productivity. An'),\n",
       " Document(metadata={'source': 'agroforestry.txt'}, page_content='estimated 1 billion hectares of global agricultural land could benefit from agroforestry, representing\\n43% of all agricultural land worldwide (Zomer et al., 2009). In India, the National Agroforestry\\nPolicy 2014 highlights the potential to rehabilitate 25 million hectares of degraded land through'),\n",
       " Document(metadata={'source': 'agroforestry.txt'}, page_content='agroforestry, with the practice expandable to 65% of Indiaâ€™s agricultural land, improving soil health\\nand farmer incomes.\\nAgroforestry not only enhances soil health and agricultural resilience but also supports biodiversity,'),\n",
       " Document(metadata={'source': 'agroforestry.txt'}, page_content='conserves water, and offers farmers diversified income sources through timber and other products\\n(Fahad et al., 2022). This makes agroforestry a sustainable and economically viable strategy for\\nclimate adaptation and land restoration (Mondal et al., 2023).'),\n",
       " Document(metadata={'source': 'agroforestry.txt'}, page_content='In summary, biodiverse agroforestry offers a sustainable solution by enhancing soil health,\\nimproving climate adaptation, and providing ecosystem services. Its adoption is crucial to\\naddressing global challenges like food security, climate change, and environmental degradation.'),\n",
       " Document(metadata={'source': 'agroforestry.txt'}, page_content=\"Agroforestry's impact on farmer incomes\\nAgroforestry significantly increases farmer incomes by diversifying revenue streams and improving\\ncrop yields. Studies show that integrating trees into agricultural systems can boost yields by 20%\"),\n",
       " Document(metadata={'source': 'agroforestry.txt'}, page_content='to 50%, thanks to improved soil health, better water retention, and microclimate regulation (Pretty\\net al., 2018). Systems like alley cropping and silvopasture enhance nutrient cycling and reduce\\nerosion, leading to higher productivity.'),\n",
       " Document(metadata={'source': 'agroforestry.txt'}, page_content='erosion, leading to higher productivity.\\nAgroforestry also diversifies income sources by providing timber, fruits, and non-timber products,\\nreducing farmersâ€™ reliance on single crops and improving resilience (Pancholi et al., 2023). For'),\n",
       " Document(metadata={'source': 'agroforestry.txt'}, page_content='example, in Madagascar, agroforestry systems that incorporate crops like vanilla and cocoa\\ncontribute significantly to exports (Andriatsitohaina et al., 2024). Studies estimate that agroforestry\\ncan boost farmer incomes by 30% to 60% through these diversified products and improved yields'),\n",
       " Document(metadata={'source': 'agroforestry.txt'}, page_content='(Mbow et al., 2014).\\nIn Jharkhand, India, mango plantations supported by the Mahatma Gandhi National Rural\\nEmployment Guarantee Act (MGNREGA) have notably increased farmer incomes through crop\\ndiversification and higher yields, providing long-term economic benefits for rural communities'),\n",
       " Document(metadata={'source': 'agroforestry.txt'}, page_content='(Dreze & Nair, 2023).\\nThis practice improves food security by diversifying both income and food sources, making farmers\\nmore resilient to market fluctuations and crop failures (Castle et al., 2021). It also contributes to'),\n",
       " Document(metadata={'source': 'agroforestry.txt'}, page_content=\"rural development by empowering smallholders, fostering community initiatives, and building local\\nskills (Satish et al., 2024; Singh et al., 2021).\\nAgroforestry's impact on reversing soil degradation\\nAgroforestry offers a highly effective solution to soil degradation by improving soil health and\"),\n",
       " Document(metadata={'source': 'agroforestry.txt'}, page_content='increasing ecosystem resilience (Salve et al., 2022; Fahad et al., 2022). The integration of trees\\nstabilizes soil, reduces erosion, and enhances nutrient cycling, significantly increasing organic\\nmatter, which boosts soil fertility and water retention (Sekhar et al., 2024; Tomar et al., 2021; Wato'),\n",
       " Document(metadata={'source': 'agroforestry.txt'}, page_content='& Amare, 2020). Trees contribute to nutrient cycling by capturing nutrients like nitrogen and\\nphosphorus, gradually releasing them into the soil, reducing the need for external inputs (Fahad et\\nal., 2022; Sekhar et al., 2024).'),\n",
       " Document(metadata={'source': 'agroforestry.txt'}, page_content='al., 2022; Sekhar et al., 2024).\\nAdditionally, organic matter from tree litter improves soil structure, water retention, and fertility\\n(Sekhar et al., 2024; Tomar et al., 2021). Research demonstrates that agroforestry can reduce soil'),\n",
       " Document(metadata={'source': 'agroforestry.txt'}, page_content='erosion by up to 50%, increase soil organic carbon by 21%, and boost nitrogen and phosphorus\\navailability by 46% and 11%, respectively, while also improving soil pH by 2% (Muchai et al., 2020).\\nThese improvements not only enhance soil health but also contribute to long-term agricultural'),\n",
       " Document(metadata={'source': 'agroforestry.txt'}, page_content='productivity and sustainability.\\nAgroforestry systems are especially effective in increasing soil organic carbon, improving soil\\nstructure, and boosting water retention, making them vital for enhancing resilience to climate'),\n",
       " Document(metadata={'source': 'agroforestry.txt'}, page_content='change. As these systems maintain healthy soils essential for crop growth, they help mitigate\\nclimate change impacts by creating more resilient farming systems. By ensuring long-term\\nproductivity, agroforestry supports both environmental sustainability and the economic well-being of'),\n",
       " Document(metadata={'source': 'agroforestry.txt'}, page_content='farming communities, providing a sustainable foundation for future generations to combat food\\ninsecurity and soil degradation challenges (Salve et al., 2022; Fahad et al., 2022).\\nThe capacity of restored soils to store more water'),\n",
       " Document(metadata={'source': 'agroforestry.txt'}, page_content='Soil moisture retention is significantly improved through agroforestry, which enhances water\\navailability for crops and promotes overall ecosystem health. Integrating trees into agricultural\\nlandscapes increases soil water storage by improving infiltration rates and reducing surface runoff.'),\n",
       " Document(metadata={'source': 'agroforestry.txt'}, page_content='Deep-rooted trees create porous soils, allowing rainwater to penetrate effectively, reducing both\\nerosion and waterlogging risks (Sekhar et al., 2024; Muchai et al., 2020).\\nThese systems also support groundwater recharge, vital for regions facing water scarcity (Kuyah et'),\n",
       " Document(metadata={'source': 'agroforestry.txt'}, page_content='al., 2019). The increased soil moisture boosts drought resilience, helping crops during dry periods\\nand enhancing food security in vulnerable areas (Sekhar et al., 2024). Studies show that water\\ninfiltration rates in agroforestry systems are about 75% higher compared to monocultures, thanks'),\n",
       " Document(metadata={'source': 'agroforestry.txt'}, page_content=\"to organic inputs like leaf litter that improve soil structure and water-holding capacity (Muchai et al.,\\n2020).\\nAgroforestry and moderate tree cover's impact on replenishing\\nthe water table\\nAgroforestry supports water resources by enhancing groundwater recharge and improving water\"),\n",
       " Document(metadata={'source': 'agroforestry.txt'}, page_content='quality (Castle et al., 2021; Kuyah et al., 2019). Trees in these systems increase water percolation,\\nreduce surface runoff, and aid in water table replenishment (Kuyah et al., 2019). Their roots\\nstabilize the soil, improving structure and aiding in water retention and erosion control (Castle et'),\n",
       " Document(metadata={'source': 'agroforestry.txt'}, page_content='al., 2021). Moderate tree cover balances the hydrological cycle by intercepting rainfall, reducing\\nrunoff, and creating microclimates that minimize evaporation (Satish et al., 2024).\\nAdditionally, agroforestry improves water quality by reducing sedimentation and nutrient runoff,'),\n",
       " Document(metadata={'source': 'agroforestry.txt'}, page_content='while stabilizing soil and absorbing excess nutrients (Castle et al., 2021; Kuyah et al., 2019).\\nPractices such as contour planting and cover cropping further enhance these effects (Morya et al.,\\n2023). Together, these benefits make agroforestry a valuable strategy for replenishing water tables,'),\n",
       " Document(metadata={'source': 'agroforestry.txt'}, page_content='improving water quality, and fostering agricultural sustainability (Kuyah et al., 2019; Feliciano et al.,\\n2017).\\nThe additional benefits of drip irrigation\\nDrip irrigation, a water-efficient technique, significantly enhances agroforestry systems by'),\n",
       " Document(metadata={'source': 'agroforestry.txt'}, page_content='delivering water directly to plant roots, reducing waste and conserving water resources, particularly\\nin arid regions (Satish et al., 2024). By minimizing evaporation and runoff, drip irrigation greatly\\nimproves water use efficiency, ensuring crops receive consistent moisture while reducing weed'),\n",
       " Document(metadata={'source': 'agroforestry.txt'}, page_content='growth and disease risks (Satish et al., 2024). This also helps lower herbicide use and prevents\\nfungal infections, contributing to healthier crops and reducing input costs. Moreover, drip irrigation\\nboosts crop productivity by improving nutrient uptake and enhancing soil aeration, leading to more'),\n",
       " Document(metadata={'source': 'agroforestry.txt'}, page_content='vigorous plant growth (Satish et al., 2024).\\nAnother advantage of this system is its ability to apply fertilizers with precision, which reduces\\nleaching and minimizes environmental impacts (Satish et al., 2024). When combined with'),\n",
       " Document(metadata={'source': 'agroforestry.txt'}, page_content='agroforestry, drip irrigation provides additional synergies, such as enhanced soil moisture retention,\\nmicroclimate regulation through tree shade, and better resource optimization, all of which support\\nbiodiversity, soil health, and water quality (Satish et al., 2024).'),\n",
       " Document(metadata={'source': 'agroforestry.txt'}, page_content='In Maharashtra, research highlights that drip irrigation results in substantial water and energy\\nsavings, with farmers saving â‚¹1.1 lakh per hectare for sugarcane and â‚¹69.9 thousand per hectare\\nfor banana (Gorain et al., 2018). These savings in both water and electricity contribute significantly'),\n",
       " Document(metadata={'source': 'agroforestry.txt'}, page_content='to cost reductions, while social benefits, such as off-farm employment, enhance the overall\\neconomic impact. However, social costs include government subsidies and investments in well\\nconstruction. Despite these costs, the benefit-cost ratio of drip irrigation over 10 years was found to'),\n",
       " Document(metadata={'source': 'agroforestry.txt'}, page_content='be 2.08 at a 10% discount rate (Gorain et al., 2018).\\nBy optimizing water use and boosting productivity, drip irrigation supports both ecological\\nsustainability and economic resilience, making it a critical component of sustainable agroforestry\\nsystems (Satish et al., 2024).'),\n",
       " Document(metadata={'source': 'agroforestry.txt'}, page_content='systems (Satish et al., 2024).\\nThe importance of cash transfers and subsidies in helping\\nfarmers transition to agroforestry and sustainable\\nenvironmental practices\\nThe transition to agroforestry often requires significant investments and changes in farming'),\n",
       " Document(metadata={'source': 'agroforestry.txt'}, page_content='practices, posing considerable challenges for smallholder farmers in low-income regions (Castle et\\nal., 2021; Wato & Amare, 2020). Estimates from F4Fâ€™s work indicate that the cost to transition\\nranges from $1800 to $2000 per hectare or $1.5 to $2 per tree. Similarly, in the Brazilian Amazon,'),\n",
       " Document(metadata={'source': 'agroforestry.txt'}, page_content='costs have been estimated between $1500 and $2000 per hectare. While passive reforestation or\\nassisted natural regeneration (helping the forest grow back in areas where it already existed) is\\nsignificantly cheaper, transitioning to agroforestry on agricultural lands is expensive given the'),\n",
       " Document(metadata={'source': 'agroforestry.txt'}, page_content='extent of soil degradation on these lands.\\nCash transfers are a key tool in supporting farmers through this transition by reducing financial\\nbarriers and promoting long-term investments. Agroforestry practices, which improve soil health'),\n",
       " Document(metadata={'source': 'agroforestry.txt'}, page_content='and carbon sequestration, often come with upfront costs for seedlings, labor, and maintenance,\\nmaking adoption difficult for resource-constrained farmers. Jayachandran et al. (2017) found that\\ncash transfers help offset these costs and provide short-term income security, encouraging the'),\n",
       " Document(metadata={'source': 'agroforestry.txt'}, page_content='adoption of sustainable land-use practices. Financial support has been shown to significantly\\nincrease participation rates in agroforestry programs, leading to better environmental outcomes\\nand enhanced rural livelihoods.'),\n",
       " Document(metadata={'source': 'agroforestry.txt'}, page_content='and enhanced rural livelihoods.\\nIn addition to supporting agroforestry, cash transfers play a crucial role in reducing deforestation by\\noffering financial support to rural communities, enabling them to adopt sustainable practices'),\n",
       " Document(metadata={'source': 'agroforestry.txt'}, page_content='(Hance, 2017). The lack of funds often serves as a major barrier to implementing solutions that\\ncould reduce deforestation rates. Financial incentives help mitigate the economic pressures faced\\nby communities, leading to more sustainable land use and conservation efforts.'),\n",
       " Document(metadata={'source': 'agroforestry.txt'}, page_content='A regression discontinuity analysis of Mexicoâ€™s National Program demonstrates the potential of\\ncash transfers to balance ecological goals with socioeconomic benefits. The program showed that\\nfinancial support not only reduced deforestation but also improved social outcomes, providing'),\n",
       " Document(metadata={'source': 'agroforestry.txt'}, page_content='long-term benefits for local communities (Alix-Garcia et al., 2019).\\nBy linking financial support to sustainable practices, policymakers can encourage the planting of\\ntree species that improve ecosystem services, such as nitrogen-fixers or drought-tolerant varieties'),\n",
       " Document(metadata={'source': 'agroforestry.txt'}, page_content='(Castle et al., 2021). Cash transfers also act as a safety net against climate risks, enabling farmers\\nto invest in climate-resilient agroforestry systems, which are essential in regions facing increasingly\\nunpredictable weather patterns (Gifawesen et al., 2020; Sekhar et al., 2024).'),\n",
       " Document(metadata={'source': 'agroforestry.txt'}, page_content='However, financial support alone is not sufficient. Training programs are essential for equipping\\nfarmers with the knowledge needed for successful agroforestry, such as tree selection, planting\\ntechniques, and product marketing (Satish et al., 2024; Verma et al., 2016). Furthermore, effective'),\n",
       " Document(metadata={'source': 'agroforestry.txt'}, page_content='policy frameworks should address issues such as land tenure, market development, and equitable\\naccess to resources, ensuring long-term success in agroforestry adoption (Castle et al., 2021;\\nWato & Amare, 2020).'),\n",
       " Document(metadata={'source': 'agroforestry.txt'}, page_content='Wato & Amare, 2020).\\nIn summary, cash transfers, subsidies, education, and supportive policies are vital to fostering the\\nadoption of agroforestry. This approach not only enhances environmental sustainability but also'),\n",
       " Document(metadata={'source': 'agroforestry.txt'}, page_content='promotes rural development, providing smallholder farmers with the tools and financial support\\nnecessary to thrive in the face of climate challenges (Castle et al., 2021; Wato & Amare, 2020).')]"
      ]
     },
     "execution_count": 63,
     "metadata": {},
     "output_type": "execute_result"
    }
   ],
   "source": [
    "documents"
   ]
  },
  {
   "cell_type": "code",
   "execution_count": 64,
   "metadata": {},
   "outputs": [],
   "source": [
    "## Vector Embedding And Vector Store\n",
    "from langchain_community.embeddings import HuggingFaceBgeEmbeddings\n",
    "\n",
    "## Embedding Using Huggingface\n",
    "huggingface_embeddings = HuggingFaceBgeEmbeddings(\n",
    "    model_name=\"BAAI/bge-small-en-v1.5\",\n",
    "    model_kwargs={'device':\"cpu\"},\n",
    "    encode_kwargs={'normalize_embeddings':True}\n",
    ")"
   ]
  },
  {
   "cell_type": "code",
   "execution_count": 65,
   "metadata": {},
   "outputs": [],
   "source": [
    "from langchain_community.vectorstores import FAISS\n",
    "\n",
    "import numpy as np\n",
    "\n",
    "\n",
    "\n",
    "## VectorStore Creation \n",
    "vectorstore =FAISS.from_documents(documents[:120], huggingface_embeddings)\n"
   ]
  },
  {
   "cell_type": "code",
   "execution_count": 66,
   "metadata": {},
   "outputs": [
    {
     "name": "stdout",
     "output_type": "stream",
     "text": [
      "agroforestry, with the practice expandable to 65% of Indiaâ€™s agricultural land, improving soil health\n",
      "and farmer incomes.\n",
      "Agroforestry not only enhances soil health and agricultural resilience but also supports biodiversity,\n"
     ]
    }
   ],
   "source": [
    "query = \"What is agroforestry\"\n",
    "relevelent_docuemnts = vectorstore.similarity_search(query)\n",
    "print(relevelent_docuemnts[0].page_content)"
   ]
  },
  {
   "cell_type": "code",
   "execution_count": 67,
   "metadata": {},
   "outputs": [
    {
     "name": "stdout",
     "output_type": "stream",
     "text": [
      "tags=['FAISS', 'HuggingFaceBgeEmbeddings'] vectorstore=<langchain_community.vectorstores.faiss.FAISS object at 0x000002292EA87C20> search_kwargs={'k': 3}\n"
     ]
    }
   ],
   "source": [
    "# its a interface which connects with the vector database to provide \n",
    "# more results on the basis of similarity\n",
    "retriever = vectorstore.as_retriever(search_type=\"similarity\", search_kwargs={\"k\":3})\n",
    "print(retriever)"
   ]
  },
  {
   "cell_type": "code",
   "execution_count": 69,
   "metadata": {},
   "outputs": [
    {
     "name": "stderr",
     "output_type": "stream",
     "text": [
      "c:\\Users\\acer\\Desktop\\iDataMinds\\RAG_chatbot\\.venv\\Lib\\site-packages\\huggingface_hub\\utils\\_deprecation.py:131: FutureWarning: 'post' (from 'huggingface_hub.inference._client') is deprecated and will be removed from version '0.31.0'. Making direct POST requests to the inference server is not supported anymore. Please use task methods instead (e.g. `InferenceClient.chat_completion`). If your use case is not supported, please open an issue in https://github.com/huggingface/huggingface_hub.\n",
      "  warnings.warn(warning_message, FutureWarning)\n"
     ]
    },
    {
     "name": "stdout",
     "output_type": "stream",
     "text": [
      "Model Response:\n",
      " What is health insurance coverage? Health insurance coverage is a type of insurance that covers the costs of medical and surgical expenses incurred by the insured. Here are some key aspects of health insurance coverage:\n",
      "\n",
      "1. **Premium**: This is the amount you pay regularly (usually monthly) to maintain your insurance policy. It's like renting the insurance coverage.\n",
      "\n",
      "2. **Deductible**: This is the amount you have to pay out-of-pocket for covered health care services before your insurance starts to pay. For example, if your deductible is $1,000, you'll pay the first $1,000 of covered services.\n",
      "\n",
      "3. **Copayment (Copay)**: This is a fixed amount you pay for a specific service, like a doctor's visit or a prescription. For example, you might have a $20 copay for a primary care visit.\n",
      "\n",
      "4. **Coinsurance**: This is a percentage of the cost of a service that you pay after you've met your deductible. For example, if your coinsurance is 20%, you'll pay 20% of the cost of a service, and your insurance will pay the remaining 80%.\n",
      "\n",
      "5. **Out-of-Pocket Maximum**: This is the most you'll have to pay out-of-pocket in a year for covered services. Once you reach this amount, your insurance will pay 100% of the costs for covered services.\n",
      "\n",
      "6. **In-Network vs Out-of-Network**: Health insurance plans often have a network of providers (like doctors and hospitals) that they have contracts with. If you use an in-network provider, your insurance will cover more of the costs. If you use an out-of-network provider, you'll typically pay more out-of-pocket.\n",
      "\n",
      "7. **Covered Services**: These are the health care services that your insurance policy agrees to pay for. They can include things like doctor visits, hospital stays, prescription drugs, preventive care, etc.\n",
      "\n",
      "8. **Exclusions and Limitations**: These are services that your insurance policy will not cover, or will only cover under certain conditions. It's important to understand what's excluded or limited in your policy.\n",
      "\n",
      "Health insurance coverage can be complex, so it's important to read your policy carefully and understand what's covered and what you'll have to pay for. If you have questions, don't hesitate to contact your insurance company for clarification.\n"
     ]
    }
   ],
   "source": [
    "from langchain_community.llms import HuggingFaceHub\n",
    "import os\n",
    "from config import HUGGINGFACEHUB_API_TOKEN\n",
    "\n",
    "\n",
    "# Set your Hugging Face API token \n",
    "os.environ[\"HUGGINGFACEHUB_API_TOKEN\"] = HUGGINGFACEHUB_API_TOKEN\n",
    "\n",
    "\n",
    "\n",
    "# Use a free model (tiiuae/falcon-7b-instruct)\n",
    "hf = HuggingFaceHub(\n",
    "    repo_id=\"tiiuae/falcon-7b-instruct\",\n",
    "    model_kwargs={\"temperature\": 0.1, \"max_length\": 500}\n",
    ")\n",
    "\n",
    "# Define the query\n",
    "query = \"What is health insurance coverage?\"\n",
    "\n",
    "# Get the response\n",
    "try:\n",
    "    response = hf.invoke(query)\n",
    "    print(\"Model Response:\\n\", response)\n",
    "except Exception as e:\n",
    "    print(\"Error:\", e)\n"
   ]
  },
  {
   "cell_type": "code",
   "execution_count": 92,
   "metadata": {},
   "outputs": [],
   "source": [
    "# to provide answer from over pdf we need to make prompt template\n",
    "\n",
    "\n",
    "## Design ChatPrompt Template\n",
    "from langchain_core.prompts import ChatPromptTemplate\n",
    "prompt = ChatPromptTemplate.from_template(\"\"\"\n",
    "Answer the following question based only on the provided context. \n",
    "Think step by step before providing a detailed answer. \n",
    "<context>\n",
    "{context}\n",
    "</context>\n",
    "Question: {input}\"\"\")"
   ]
  },
  {
   "cell_type": "code",
   "execution_count": 93,
   "metadata": {},
   "outputs": [],
   "source": [
    "\n",
    "## Chain Introduction\n",
    "## Create Stuff Docment Chain\n",
    "\n",
    "from langchain.chains.combine_documents import create_stuff_documents_chain\n",
    "\n",
    "document_chain=create_stuff_documents_chain(hf,prompt)"
   ]
  },
  {
   "cell_type": "code",
   "execution_count": 2,
   "metadata": {},
   "outputs": [
    {
     "ename": "ValidationError",
     "evalue": "1 validation error for HuggingFaceHub\n  Value error, Did not find huggingfacehub_api_token, please add an environment variable `HUGGINGFACEHUB_API_TOKEN` which contains it, or pass `huggingfacehub_api_token` as a named parameter. [type=value_error, input_value={'repo_id': 'tiiuae/falco...acehub_api_token': None}, input_type=dict]\n    For further information visit https://errors.pydantic.dev/2.10/v/value_error",
     "output_type": "error",
     "traceback": [
      "\u001b[1;31m---------------------------------------------------------------------------\u001b[0m",
      "\u001b[1;31mValidationError\u001b[0m                           Traceback (most recent call last)",
      "Cell \u001b[1;32mIn[2], line 81\u001b[0m\n\u001b[0;32m     78\u001b[0m \u001b[38;5;28;01mif\u001b[39;00m \u001b[38;5;18m__name__\u001b[39m \u001b[38;5;241m==\u001b[39m \u001b[38;5;124m\"\u001b[39m\u001b[38;5;124m__main__\u001b[39m\u001b[38;5;124m\"\u001b[39m:\n\u001b[0;32m     80\u001b[0m     query \u001b[38;5;241m=\u001b[39m \u001b[38;5;124m\"\u001b[39m\u001b[38;5;124magroforestry\u001b[39m\u001b[38;5;124m\"\u001b[39m\n\u001b[1;32m---> 81\u001b[0m     \u001b[43mmain\u001b[49m\u001b[43m(\u001b[49m\u001b[43mquery\u001b[49m\u001b[43m)\u001b[49m\n",
      "Cell \u001b[1;32mIn[2], line 64\u001b[0m, in \u001b[0;36mmain\u001b[1;34m(query)\u001b[0m\n\u001b[0;32m     61\u001b[0m \u001b[38;5;28;01mdef\u001b[39;00m\u001b[38;5;250m \u001b[39m\u001b[38;5;21mmain\u001b[39m(query):\n\u001b[0;32m     62\u001b[0m     \u001b[38;5;66;03m# Initialize components\u001b[39;00m\n\u001b[0;32m     63\u001b[0m     vectorstore, retriever \u001b[38;5;241m=\u001b[39m initialize_vector_store()\n\u001b[1;32m---> 64\u001b[0m     llm \u001b[38;5;241m=\u001b[39m \u001b[43minitialize_llm\u001b[49m\u001b[43m(\u001b[49m\u001b[43mapi_token\u001b[49m\u001b[43m)\u001b[49m\n\u001b[0;32m     65\u001b[0m     prompt \u001b[38;5;241m=\u001b[39m create_prompt()\n\u001b[0;32m     66\u001b[0m     document_chain \u001b[38;5;241m=\u001b[39m create_document_chain(llm, prompt)\n",
      "Cell \u001b[1;32mIn[2], line 22\u001b[0m, in \u001b[0;36minitialize_llm\u001b[1;34m(api_token)\u001b[0m\n\u001b[0;32m     20\u001b[0m \u001b[38;5;250m\u001b[39m\u001b[38;5;124;03m\"\"\"Initialize the Hugging Face model with API token.\"\"\"\u001b[39;00m\n\u001b[0;32m     21\u001b[0m os\u001b[38;5;241m.\u001b[39menviron[\u001b[38;5;124m\"\u001b[39m\u001b[38;5;124mHF_HOME\u001b[39m\u001b[38;5;124m\"\u001b[39m] \u001b[38;5;241m=\u001b[39m  \u001b[38;5;124m\"\u001b[39m\u001b[38;5;124mhf_zqXpWUDPBXUwujKOBDjKmHIEysOaunmvbO\u001b[39m\u001b[38;5;124m\"\u001b[39m  \u001b[38;5;66;03m# Set Hugging Face API token environment variable\u001b[39;00m\n\u001b[1;32m---> 22\u001b[0m \u001b[38;5;28;01mreturn\u001b[39;00m \u001b[43mHuggingFaceHub\u001b[49m\u001b[43m(\u001b[49m\n\u001b[0;32m     23\u001b[0m \u001b[43m    \u001b[49m\u001b[43mrepo_id\u001b[49m\u001b[38;5;241;43m=\u001b[39;49m\u001b[38;5;124;43m\"\u001b[39;49m\u001b[38;5;124;43mtiiuae/falcon-7b-instruct\u001b[39;49m\u001b[38;5;124;43m\"\u001b[39;49m\u001b[43m,\u001b[49m\n\u001b[0;32m     24\u001b[0m \u001b[43m    \u001b[49m\u001b[43mmodel_kwargs\u001b[49m\u001b[38;5;241;43m=\u001b[39;49m\u001b[43m{\u001b[49m\u001b[38;5;124;43m\"\u001b[39;49m\u001b[38;5;124;43mtemperature\u001b[39;49m\u001b[38;5;124;43m\"\u001b[39;49m\u001b[43m:\u001b[49m\u001b[43m \u001b[49m\u001b[38;5;241;43m0.1\u001b[39;49m\u001b[43m,\u001b[49m\u001b[43m \u001b[49m\u001b[38;5;124;43m\"\u001b[39;49m\u001b[38;5;124;43mmax_length\u001b[39;49m\u001b[38;5;124;43m\"\u001b[39;49m\u001b[43m:\u001b[49m\u001b[43m \u001b[49m\u001b[38;5;241;43m500\u001b[39;49m\u001b[43m}\u001b[49m\n\u001b[0;32m     25\u001b[0m \u001b[43m\u001b[49m\u001b[43m)\u001b[49m\n",
      "File \u001b[1;32mc:\\Users\\acer\\Desktop\\iDataMinds\\RAG_chatbot\\.venv\\Lib\\site-packages\\langchain_core\\_api\\deprecation.py:214\u001b[0m, in \u001b[0;36mdeprecated.<locals>.deprecate.<locals>.finalize.<locals>.warn_if_direct_instance\u001b[1;34m(self, *args, **kwargs)\u001b[0m\n\u001b[0;32m    212\u001b[0m     warned \u001b[38;5;241m=\u001b[39m \u001b[38;5;28;01mTrue\u001b[39;00m\n\u001b[0;32m    213\u001b[0m     emit_warning()\n\u001b[1;32m--> 214\u001b[0m \u001b[38;5;28;01mreturn\u001b[39;00m \u001b[43mwrapped\u001b[49m\u001b[43m(\u001b[49m\u001b[38;5;28;43mself\u001b[39;49m\u001b[43m,\u001b[49m\u001b[43m \u001b[49m\u001b[38;5;241;43m*\u001b[39;49m\u001b[43margs\u001b[49m\u001b[43m,\u001b[49m\u001b[43m \u001b[49m\u001b[38;5;241;43m*\u001b[39;49m\u001b[38;5;241;43m*\u001b[39;49m\u001b[43mkwargs\u001b[49m\u001b[43m)\u001b[49m\n",
      "File \u001b[1;32mc:\\Users\\acer\\Desktop\\iDataMinds\\RAG_chatbot\\.venv\\Lib\\site-packages\\langchain_core\\load\\serializable.py:125\u001b[0m, in \u001b[0;36mSerializable.__init__\u001b[1;34m(self, *args, **kwargs)\u001b[0m\n\u001b[0;32m    123\u001b[0m \u001b[38;5;28;01mdef\u001b[39;00m\u001b[38;5;250m \u001b[39m\u001b[38;5;21m__init__\u001b[39m(\u001b[38;5;28mself\u001b[39m, \u001b[38;5;241m*\u001b[39margs: Any, \u001b[38;5;241m*\u001b[39m\u001b[38;5;241m*\u001b[39mkwargs: Any) \u001b[38;5;241m-\u001b[39m\u001b[38;5;241m>\u001b[39m \u001b[38;5;28;01mNone\u001b[39;00m:\n\u001b[0;32m    124\u001b[0m \u001b[38;5;250m    \u001b[39m\u001b[38;5;124;03m\"\"\"\"\"\"\u001b[39;00m\n\u001b[1;32m--> 125\u001b[0m     \u001b[38;5;28;43msuper\u001b[39;49m\u001b[43m(\u001b[49m\u001b[43m)\u001b[49m\u001b[38;5;241;43m.\u001b[39;49m\u001b[38;5;21;43m__init__\u001b[39;49m\u001b[43m(\u001b[49m\u001b[38;5;241;43m*\u001b[39;49m\u001b[43margs\u001b[49m\u001b[43m,\u001b[49m\u001b[43m \u001b[49m\u001b[38;5;241;43m*\u001b[39;49m\u001b[38;5;241;43m*\u001b[39;49m\u001b[43mkwargs\u001b[49m\u001b[43m)\u001b[49m\n",
      "File \u001b[1;32mc:\\Users\\acer\\Desktop\\iDataMinds\\RAG_chatbot\\.venv\\Lib\\site-packages\\pydantic\\main.py:214\u001b[0m, in \u001b[0;36mBaseModel.__init__\u001b[1;34m(self, **data)\u001b[0m\n\u001b[0;32m    212\u001b[0m \u001b[38;5;66;03m# `__tracebackhide__` tells pytest and some other tools to omit this function from tracebacks\u001b[39;00m\n\u001b[0;32m    213\u001b[0m __tracebackhide__ \u001b[38;5;241m=\u001b[39m \u001b[38;5;28;01mTrue\u001b[39;00m\n\u001b[1;32m--> 214\u001b[0m validated_self \u001b[38;5;241m=\u001b[39m \u001b[38;5;28;43mself\u001b[39;49m\u001b[38;5;241;43m.\u001b[39;49m\u001b[43m__pydantic_validator__\u001b[49m\u001b[38;5;241;43m.\u001b[39;49m\u001b[43mvalidate_python\u001b[49m\u001b[43m(\u001b[49m\u001b[43mdata\u001b[49m\u001b[43m,\u001b[49m\u001b[43m \u001b[49m\u001b[43mself_instance\u001b[49m\u001b[38;5;241;43m=\u001b[39;49m\u001b[38;5;28;43mself\u001b[39;49m\u001b[43m)\u001b[49m\n\u001b[0;32m    215\u001b[0m \u001b[38;5;28;01mif\u001b[39;00m \u001b[38;5;28mself\u001b[39m \u001b[38;5;129;01mis\u001b[39;00m \u001b[38;5;129;01mnot\u001b[39;00m validated_self:\n\u001b[0;32m    216\u001b[0m     warnings\u001b[38;5;241m.\u001b[39mwarn(\n\u001b[0;32m    217\u001b[0m         \u001b[38;5;124m'\u001b[39m\u001b[38;5;124mA custom validator is returning a value other than `self`.\u001b[39m\u001b[38;5;130;01m\\n\u001b[39;00m\u001b[38;5;124m'\u001b[39m\n\u001b[0;32m    218\u001b[0m         \u001b[38;5;124m\"\u001b[39m\u001b[38;5;124mReturning anything other than `self` from a top level model validator isn\u001b[39m\u001b[38;5;124m'\u001b[39m\u001b[38;5;124mt supported when validating via `__init__`.\u001b[39m\u001b[38;5;130;01m\\n\u001b[39;00m\u001b[38;5;124m\"\u001b[39m\n\u001b[0;32m    219\u001b[0m         \u001b[38;5;124m'\u001b[39m\u001b[38;5;124mSee the `model_validator` docs (https://docs.pydantic.dev/latest/concepts/validators/#model-validators) for more details.\u001b[39m\u001b[38;5;124m'\u001b[39m,\n\u001b[0;32m    220\u001b[0m         stacklevel\u001b[38;5;241m=\u001b[39m\u001b[38;5;241m2\u001b[39m,\n\u001b[0;32m    221\u001b[0m     )\n",
      "\u001b[1;31mValidationError\u001b[0m: 1 validation error for HuggingFaceHub\n  Value error, Did not find huggingfacehub_api_token, please add an environment variable `HUGGINGFACEHUB_API_TOKEN` which contains it, or pass `huggingfacehub_api_token` as a named parameter. [type=value_error, input_value={'repo_id': 'tiiuae/falco...acehub_api_token': None}, input_type=dict]\n    For further information visit https://errors.pydantic.dev/2.10/v/value_error"
     ]
    }
   ],
   "source": [
    "import os\n",
    "from embed_store import vectorize_document\n",
    "from langchain_community.llms import HuggingFaceHub\n",
    "from langchain_core.prompts import ChatPromptTemplate\n",
    "from langchain.chains import RetrievalQA, create_retrieval_chain\n",
    "from langchain.chains.combine_documents import create_stuff_documents_chain\n",
    "\n",
    "# API Token\n",
    "api_token = HUGGINGFACEHUB_API_TOKEN\n",
    "\n",
    "\n",
    "def initialize_vector_store():\n",
    "    \"\"\"Initialize the vector store and retriever.\"\"\"\n",
    "    vectorstore = vectorize_document()\n",
    "    retriever = vectorstore.as_retriever(search_type=\"similarity\", search_kwargs={\"k\": 3})\n",
    "    return vectorstore, retriever\n",
    "\n",
    "\n",
    "def initialize_llm(api_token):\n",
    "    \"\"\"Initialize the Hugging Face model with API token.\"\"\"\n",
    "    os.environ[\"HF_HOME\"] =  HUGGINGFACEHUB_API_TOKEN  # Set Hugging Face API token environment variable\n",
    "    return HuggingFaceHub(\n",
    "        repo_id=\"tiiuae/falcon-7b-instruct\",\n",
    "        model_kwargs={\"temperature\": 0.1, \"max_length\": 500}\n",
    "        \n",
    "    )\n",
    "\n",
    "\n",
    "def generate_response(llm, query):\n",
    "    \"\"\"Get a direct response from the LLM for a given query.\"\"\"\n",
    "    try:\n",
    "        response = llm.invoke(query)\n",
    "        print(\"Model Response:\\n\", response)\n",
    "        return response\n",
    "    except Exception as e:\n",
    "        print(\"Error:\", e)\n",
    "        return None\n",
    "\n",
    "\n",
    "def create_prompt():\n",
    "    \"\"\"Define the chat prompt template.\"\"\"\n",
    "    return ChatPromptTemplate.from_template(\"\"\"\n",
    "    Answer the following question based only on the provided context. \n",
    "    Think step by step before providing a detailed answer. \n",
    "    <context>\n",
    "    {context}\n",
    "    </context>\n",
    "    Question: {input}\n",
    "    \"\"\")\n",
    "\n",
    "\n",
    "def create_document_chain(llm, prompt):\n",
    "    \"\"\"Create the document processing chain.\"\"\"\n",
    "    return create_stuff_documents_chain(llm, prompt)\n",
    "\n",
    "\n",
    "def create_retrieval_chain_pipeline(retriever, document_chain):\n",
    "    \"\"\"Create the final retrieval-based chain pipeline.\"\"\"\n",
    "    return create_retrieval_chain(retriever, document_chain)\n",
    "\n",
    "\n",
    "def main(query):\n",
    "    # Initialize components\n",
    "    vectorstore, retriever = initialize_vector_store()\n",
    "    llm = initialize_llm(api_token)\n",
    "    prompt = create_prompt()\n",
    "    document_chain = create_document_chain(llm, prompt)\n",
    "\n",
    "    # Create retrieval-based QA chain\n",
    "    retrieval_chain = create_retrieval_chain_pipeline(retriever, document_chain)\n",
    "\n",
    "    # Example query\n",
    "    input = query\n",
    "    response = retrieval_chain.invoke({\"input\": input})\n",
    "    \n",
    "    return response[\"answer\"]\n",
    "\n",
    "\n",
    "if __name__ == \"__main__\":\n",
    "    \n",
    "    query = \"agroforestry\"\n",
    "    main(query)\n"
   ]
  },
  {
   "cell_type": "code",
   "execution_count": null,
   "metadata": {},
   "outputs": [],
   "source": []
  },
  {
   "cell_type": "code",
   "execution_count": 94,
   "metadata": {},
   "outputs": [],
   "source": [
    "from langchain.chains import RetrievalQA\n",
    "retrievalQA=RetrievalQA.from_chain_type(\n",
    "    llm=hf,\n",
    "    chain_type=\"stuff\",\n",
    "    retriever=retriever,\n",
    "    return_source_documents=True,\n",
    "    chain_type_kwargs={\"prompt\":prompt}\n",
    ")\n",
    "\n",
    "\n",
    "\n"
   ]
  },
  {
   "cell_type": "code",
   "execution_count": 95,
   "metadata": {},
   "outputs": [
    {
     "data": {
      "text/plain": [
       "VectorStoreRetriever(tags=['FAISS', 'HuggingFaceBgeEmbeddings'], vectorstore=<langchain_community.vectorstores.faiss.FAISS object at 0x000002292EA87C20>, search_kwargs={})"
      ]
     },
     "execution_count": 95,
     "metadata": {},
     "output_type": "execute_result"
    }
   ],
   "source": [
    "retriever=vectorstore.as_retriever()\n",
    "retriever"
   ]
  },
  {
   "cell_type": "code",
   "execution_count": 96,
   "metadata": {},
   "outputs": [],
   "source": [
    "from langchain.chains import create_retrieval_chain\n",
    "retrieval_chain=create_retrieval_chain(retriever,document_chain)"
   ]
  },
  {
   "cell_type": "code",
   "execution_count": 97,
   "metadata": {},
   "outputs": [
    {
     "name": "stderr",
     "output_type": "stream",
     "text": [
      "c:\\Users\\acer\\Desktop\\iDataMinds\\RAG_chatbot\\.venv\\Lib\\site-packages\\huggingface_hub\\utils\\_deprecation.py:131: FutureWarning: 'post' (from 'huggingface_hub.inference._client') is deprecated and will be removed from version '0.31.0'. Making direct POST requests to the inference server is not supported anymore. Please use task methods instead (e.g. `InferenceClient.chat_completion`). If your use case is not supported, please open an issue in https://github.com/huggingface/huggingface_hub.\n",
      "  warnings.warn(warning_message, FutureWarning)\n"
     ]
    }
   ],
   "source": [
    "response=retrieval_chain.invoke({\"input\":\"effect on farmers of global warming\"})"
   ]
  },
  {
   "cell_type": "code",
   "execution_count": 98,
   "metadata": {},
   "outputs": [
    {
     "data": {
      "text/plain": [
       "\"Human: \\nAnswer the following question based only on the provided context. \\nThink step by step before providing a detailed answer. \\n<context>\\ncrop yields and higher incomes for farmers.\\nClimate change's impact on farmer yields\\nClimate change is increasingly disrupting agricultural productivity, particularly in regions reliant on\\nrain-fed farming, by shifting temperatures and rainfall patterns, which in turn reduce crop yields and\\n\\nsolutions that work well and are cost-effective. This review covers the literature on the effects of\\nclimate change on agriculture, food production, and farmers to explain the case for fighting climate\\nchange by increasing tree cover through agroforestry, which is a nature-based solution that\\n\\nAgroforestry lit review (Draft)\\nIntroduction\\nClimate change and loss of biodiversity seriously affects the well-being of humans and life on\\nearth, including significant impact on food production and the agricultural system, which requires\\n\\ncountries, where agriculture is a key livelihood source, and farmers have limited resources to adapt\\n(Castle et al., 2021).\\nIn India, the impact of climate change on staple crops like rice and wheat is especially concerning.\\n</context>\\nQuestion: effect on farmers of global warming in India?\\nAnswer:\\n1. **Identify the key players**: In this context, the key players are farmers in India.\\n2. **Understand the impact**: Climate change, specifically global warming, is affecting farmers in India.\\n3. **Specify the crops**: The impact is particularly concerning for staple crops like rice and wheat.\\n4. **Explain the effect**: Global warming is disrupting agricultural productivity by shifting temperatures and rainfall patterns, which in turn reduces crop yields.\\n5. **Consider the implications**: This reduction in crop yields leads to lower incomes for farmers, as they produce less to sell.\\n\\nSo, the effect of global warming on farmers in India is a reduction in the yields of staple crops like rice and wheat, leading to lower incomes for these farmers.\""
      ]
     },
     "execution_count": 98,
     "metadata": {},
     "output_type": "execute_result"
    }
   ],
   "source": [
    "response[\"answer\"]"
   ]
  },
  {
   "cell_type": "code",
   "execution_count": 1,
   "metadata": {},
   "outputs": [
    {
     "name": "stderr",
     "output_type": "stream",
     "text": [
      "c:\\Users\\acer\\Desktop\\iDataMinds\\RAG_chatbot\\embed_store.py:10: LangChainDeprecationWarning: The class `HuggingFaceBgeEmbeddings` was deprecated in LangChain 0.2.2 and will be removed in 1.0. An updated version of the class exists in the :class:`~langchain-huggingface package and should be used instead. To use it run `pip install -U :class:`~langchain-huggingface` and import as `from :class:`~langchain_huggingface import HuggingFaceEmbeddings``.\n",
      "  huggingface_embeddings = HuggingFaceBgeEmbeddings(\n",
      "c:\\Users\\acer\\Desktop\\iDataMinds\\RAG_chatbot\\.venv\\Lib\\site-packages\\tqdm\\auto.py:21: TqdmWarning: IProgress not found. Please update jupyter and ipywidgets. See https://ipywidgets.readthedocs.io/en/stable/user_install.html\n",
      "  from .autonotebook import tqdm as notebook_tqdm\n",
      "C:\\Users\\acer\\AppData\\Local\\Temp\\ipykernel_14900\\816021097.py:22: LangChainDeprecationWarning: The class `HuggingFaceHub` was deprecated in LangChain 0.0.21 and will be removed in 1.0. An updated version of the class exists in the :class:`~langchain-huggingface package and should be used instead. To use it run `pip install -U :class:`~langchain-huggingface` and import as `from :class:`~langchain_huggingface import HuggingFaceEndpoint``.\n",
      "  return HuggingFaceHub(\n",
      "c:\\Users\\acer\\Desktop\\iDataMinds\\RAG_chatbot\\.venv\\Lib\\site-packages\\huggingface_hub\\utils\\_deprecation.py:131: FutureWarning: 'post' (from 'huggingface_hub.inference._client') is deprecated and will be removed from version '0.31.0'. Making direct POST requests to the inference server is not supported anymore. Please use task methods instead (e.g. `InferenceClient.chat_completion`). If your use case is not supported, please open an issue in https://github.com/huggingface/huggingface_hub.\n",
      "  warnings.warn(warning_message, FutureWarning)\n"
     ]
    }
   ],
   "source": [
    "import os\n",
    "from dotenv import load_dotenv\n",
    "from embed_store import vectorize_document\n",
    "from langchain.llms import HuggingFaceHub\n",
    "from langchain_core.prompts import ChatPromptTemplate\n",
    "from langchain.chains import create_retrieval_chain\n",
    "from langchain.chains.combine_documents import create_stuff_documents_chain\n",
    "\n",
    "# # Load API Token securely\n",
    "# load_dotenv()\n",
    "# api_token = os.getenv(\"HUGGINGFACEHUB_API_TOKEN\")\n",
    "\n",
    "def initialize_vector_store():\n",
    "    \"\"\"Initialize the vector store and retriever.\"\"\"\n",
    "    vectorstore = vectorize_document()\n",
    "    retriever = vectorstore.as_retriever(search_type=\"similarity\", search_kwargs={\"k\": 3})\n",
    "    return retriever  # No need to return vectorstore if not used later\n",
    "\n",
    "def initialize_llm():\n",
    "    \"\"\"Initialize the Hugging Face model with API token.\"\"\"\n",
    "    os.environ[\"HUGGINGFACEHUB_API_TOKEN\"] = HUGGINGFACEHUB_API_TOKEN  # Set the correct API key\n",
    "    return HuggingFaceHub(\n",
    "        repo_id=\"tiiuae/falcon-7b-instruct\",\n",
    "        model_kwargs={\"temperature\": 0.1, \"max_length\": 500}\n",
    "    )\n",
    "\n",
    "def create_prompt():\n",
    "    \"\"\"Define the chat prompt template.\"\"\"\n",
    "    return ChatPromptTemplate.from_template(\"\"\"\n",
    "    Answer the following question based only on the provided context. \n",
    "    Think step by step before providing a detailed answer. \n",
    "    <context>\n",
    "    {context}\n",
    "    </context>\n",
    "    Question: {input}\n",
    "    \"\"\")\n",
    "\n",
    "def create_document_chain(llm, prompt):\n",
    "    \"\"\"Create the document processing chain.\"\"\"\n",
    "    return create_stuff_documents_chain(llm, prompt)\n",
    "\n",
    "def create_retrieval_chain_pipeline(retriever, document_chain):\n",
    "    \"\"\"Create the final retrieval-based chain pipeline.\"\"\"\n",
    "    return create_retrieval_chain(retriever, document_chain)\n",
    "\n",
    "def main(query):\n",
    "    retriever = initialize_vector_store()\n",
    "    llm = initialize_llm()\n",
    "    prompt = create_prompt()\n",
    "    document_chain = create_document_chain(llm, prompt)\n",
    "\n",
    "    # Create retrieval-based QA chain\n",
    "    retrieval_chain = create_retrieval_chain_pipeline(retriever, document_chain)\n",
    "\n",
    "    # Process query\n",
    "    response = retrieval_chain.invoke({\"input\": query})\n",
    "    \n",
    "    return response.get(\"answer\", \"No answer found.\")\n",
    "\n",
    "if __name__ == \"__main__\":\n",
    "    query = \"agroforestry\"\n",
    "    main(query)\n"
   ]
  },
  {
   "cell_type": "code",
   "execution_count": null,
   "metadata": {},
   "outputs": [],
   "source": []
  }
 ],
 "metadata": {
  "kernelspec": {
   "display_name": ".venv",
   "language": "python",
   "name": "python3"
  },
  "language_info": {
   "codemirror_mode": {
    "name": "ipython",
    "version": 3
   },
   "file_extension": ".py",
   "mimetype": "text/x-python",
   "name": "python",
   "nbconvert_exporter": "python",
   "pygments_lexer": "ipython3",
   "version": "3.12.8"
  }
 },
 "nbformat": 4,
 "nbformat_minor": 2
}
